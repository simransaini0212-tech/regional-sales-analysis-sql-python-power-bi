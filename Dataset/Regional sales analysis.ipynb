{
 "cells": [
  {
   "cell_type": "code",
   "execution_count": 2,
   "id": "2dc11313",
   "metadata": {},
   "outputs": [],
   "source": [
    "import pandas as pd\n",
    "import numpy as np\n",
    "import matplotlib.pyplot as plt\n",
    "import seaborn as sns\n",
    "import os"
   ]
  },
  {
   "cell_type": "code",
   "execution_count": null,
   "id": "4780f831",
   "metadata": {},
   "outputs": [],
   "source": []
  },
  {
   "cell_type": "code",
   "execution_count": 3,
   "id": "73312a83",
   "metadata": {},
   "outputs": [
    {
     "name": "stdout",
     "output_type": "stream",
     "text": [
      "d:\\python codes\n"
     ]
    }
   ],
   "source": [
    "import os\n",
    "print(os.getcwd())\n"
   ]
  },
  {
   "cell_type": "code",
   "execution_count": 4,
   "id": "d0666952",
   "metadata": {},
   "outputs": [],
   "source": [
    "import pandas as pd\n",
    "\n",
    "sheets = pd.read_excel(r\"d:\\python codes\\Regional Sales Dataset.xlsx\", sheet_name=None)\n"
   ]
  },
  {
   "cell_type": "code",
   "execution_count": 5,
   "id": "ed2dc62d",
   "metadata": {},
   "outputs": [
    {
     "name": "stdout",
     "output_type": "stream",
     "text": [
      "{'Sales Orders':         OrderNumber  OrderDate  Customer Name Index      Channel  \\\n",
      "0       SO - 000225 2014-01-01                  126    Wholesale   \n",
      "1      SO - 0003378 2014-01-01                   96  Distributor   \n",
      "2      SO - 0005126 2014-01-01                    8    Wholesale   \n",
      "3      SO - 0005614 2014-01-01                   42       Export   \n",
      "4      SO - 0005781 2014-01-01                   73    Wholesale   \n",
      "...             ...        ...                  ...          ...   \n",
      "64099  SO - 0007573 2018-02-28                   74    Wholesale   \n",
      "64100  SO - 0007706 2018-02-28                   51       Export   \n",
      "64101  SO - 0007718 2018-02-28                  136  Distributor   \n",
      "64102  SO - 0008084 2018-02-28                  158  Distributor   \n",
      "64103  SO - 0008654 2018-02-28                   22  Distributor   \n",
      "\n",
      "      Currency Code Warehouse Code  Delivery Region Index  \\\n",
      "0               USD         AXW291                    364   \n",
      "1               USD         AXW291                    488   \n",
      "2               USD         AXW291                    155   \n",
      "3               USD         AXW291                    473   \n",
      "4               USD         AXW291                    256   \n",
      "...             ...            ...                    ...   \n",
      "64099           USD         AXW291                    825   \n",
      "64100           USD         NXH382                    444   \n",
      "64101           USD         AXW291                    312   \n",
      "64102           USD         AXW291                    737   \n",
      "64103           USD         AXW291                    807   \n",
      "\n",
      "       Product Description Index  Order Quantity  Unit Price  Line Total  \\\n",
      "0                             27               6      2499.1     14994.6   \n",
      "1                             20              11      2351.7     25868.7   \n",
      "2                             26               6       978.2      5869.2   \n",
      "3                              7               7      2338.3     16368.1   \n",
      "4                              8               8      2291.4     18331.2   \n",
      "...                          ...             ...         ...         ...   \n",
      "64099                         26              12      1815.7     21788.4   \n",
      "64100                         21               6       864.3      5185.8   \n",
      "64101                         13              11      3953.0     43483.0   \n",
      "64102                         20               7      3959.7     27717.9   \n",
      "64103                         15               8       998.3      7986.4   \n",
      "\n",
      "       Total Unit Cost  \n",
      "0             1824.343  \n",
      "1             1269.918  \n",
      "2              684.740  \n",
      "3             1028.852  \n",
      "4             1260.270  \n",
      "...                ...  \n",
      "64099          980.478  \n",
      "64100          579.081  \n",
      "64101         2648.510  \n",
      "64102         2930.178  \n",
      "64103          848.555  \n",
      "\n",
      "[64104 rows x 12 columns], 'Customers':      Customer Index Customer Names\n",
      "0                 1  Geiss Company\n",
      "1                 2  Jaxbean Group\n",
      "2                 3     Ascend Ltd\n",
      "3                 4      Eire Corp\n",
      "4                 5   Blogtags Ltd\n",
      "..              ...            ...\n",
      "170             171   Accord Group\n",
      "171             172   BB17 Company\n",
      "172             173          H Ltd\n",
      "173             174   Tekfly Group\n",
      "174             175   SHISEIDO Ltd\n",
      "\n",
      "[175 rows x 2 columns], 'Regions':       id        name                                   county state_code  \\\n",
      "0      1      Auburn                               Lee County         AL   \n",
      "1      2  Birmingham           Shelby County/Jefferson County         AL   \n",
      "2      3     Decatur           Limestone County/Morgan County         AL   \n",
      "3      4      Dothan  Dale County/Houston County/Henry County         AL   \n",
      "4      5      Hoover           Shelby County/Jefferson County         AL   \n",
      "..   ...         ...                                      ...        ...   \n",
      "989  990      Racine                            Racine County         WI   \n",
      "990  991    Waukesha                          Waukesha County         WI   \n",
      "991  992  West Allis                         Milwaukee County         WI   \n",
      "992  993      Casper                           Natrona County         WY   \n",
      "993  994    Cheyenne                           Laramie County         WY   \n",
      "\n",
      "         state  type  latitude  longitude  area_code  population  households  \\\n",
      "0      Alabama  City  32.60986  -85.48078        334       62059       21767   \n",
      "1      Alabama  City  33.52744  -86.79905        205      212461       89972   \n",
      "2      Alabama  City  34.57332  -86.99214        256       55437       22294   \n",
      "3      Alabama  City  31.23370  -85.40682        334       68567       25913   \n",
      "4      Alabama  City  33.37695  -86.80558        205       84848       32789   \n",
      "..         ...   ...       ...        ...        ...         ...         ...   \n",
      "989  Wisconsin  City  42.72613  -87.78285        262       77742       29851   \n",
      "990  Wisconsin  City  43.01168  -88.23148        262       71970       28331   \n",
      "991  Wisconsin  City  43.01668  -88.00703        414       60620       27457   \n",
      "992    Wyoming  City  42.86663 -106.31308        307       60285       23814   \n",
      "993    Wyoming  City  41.13998 -104.82025        307       63335       25130   \n",
      "\n",
      "     median_income  land_area  water_area        time_zone  \n",
      "0            38342  152375113     2646161  America/Chicago  \n",
      "1            31061  378353942     6591013  America/Chicago  \n",
      "2            41496  141006257    17594716  America/Chicago  \n",
      "3            42426  232166237      835468  America/Chicago  \n",
      "4            77146  122016784     2553332  America/Chicago  \n",
      "..             ...        ...         ...              ...  \n",
      "989          41455   40111757     8282116  America/Chicago  \n",
      "990          59547   65856921      700602  America/Chicago  \n",
      "991          45221   29480532       60789  America/Chicago  \n",
      "992          57790   68507280      911081   America/Denver  \n",
      "993          58219   69964749      282335   America/Denver  \n",
      "\n",
      "[994 rows x 15 columns], 'State Regions':        Column1               Column2    Column3\n",
      "0   State Code                 State     Region\n",
      "1           AL               Alabama      South\n",
      "2           AR              Arkansas      South\n",
      "3           AZ               Arizona       West\n",
      "4           CA            California       West\n",
      "5           CO              Colorado       West\n",
      "6           CT           Connecticut  Northeast\n",
      "7           DC  District of Columbia      South\n",
      "8           DE              Delaware      South\n",
      "9           FL               Florida      South\n",
      "10          GA               Georgia      South\n",
      "11          HI                Hawaii       West\n",
      "12          IA                  Iowa    Midwest\n",
      "13          ID                 Idaho       West\n",
      "14          IL              Illinois    Midwest\n",
      "15          IN               Indiana    Midwest\n",
      "16          KS                Kansas    Midwest\n",
      "17          KY              Kentucky      South\n",
      "18          LA             Louisiana      South\n",
      "19          MA         Massachusetts  Northeast\n",
      "20          MD              Maryland      South\n",
      "21          ME                 Maine  Northeast\n",
      "22          MI              Michigan    Midwest\n",
      "23          MN             Minnesota    Midwest\n",
      "24          MO              Missouri    Midwest\n",
      "25          MS           Mississippi      South\n",
      "26          MT               Montana       West\n",
      "27          NC        North Carolina      South\n",
      "28          ND          North Dakota    Midwest\n",
      "29          NE              Nebraska    Midwest\n",
      "30          NH         New Hampshire  Northeast\n",
      "31          NJ            New Jersey  Northeast\n",
      "32          NM            New Mexico       West\n",
      "33          NV                Nevada       West\n",
      "34          NY              New York  Northeast\n",
      "35          OH                  Ohio    Midwest\n",
      "36          OK              Oklahoma      South\n",
      "37          OR                Oregon       West\n",
      "38          PA          Pennsylvania  Northeast\n",
      "39          RI          Rhode Island  Northeast\n",
      "40          SC        South Carolina      South\n",
      "41          SD          South Dakota    Midwest\n",
      "42          TN             Tennessee      South\n",
      "43          TX                 Texas      South\n",
      "44          UT                  Utah       West\n",
      "45          VA              Virginia      South\n",
      "46          WA            Washington       West\n",
      "47          WI             Wisconsin    Midwest\n",
      "48          WY               Wyoming       West, 'Products':     Index Product Name\n",
      "0       1    Product 1\n",
      "1       2    Product 2\n",
      "2       3    Product 3\n",
      "3       4    Product 4\n",
      "4       5    Product 5\n",
      "5       6    Product 6\n",
      "6       7    Product 7\n",
      "7       8    Product 8\n",
      "8       9    Product 9\n",
      "9      10   Product 10\n",
      "10     11   Product 11\n",
      "11     12   Product 12\n",
      "12     13   Product 13\n",
      "13     14   Product 14\n",
      "14     15   Product 15\n",
      "15     16   Product 16\n",
      "16     17   Product 17\n",
      "17     18   Product 18\n",
      "18     19   Product 19\n",
      "19     20   Product 20\n",
      "20     21   Product 21\n",
      "21     22   Product 22\n",
      "22     23   Product 23\n",
      "23     24   Product 24\n",
      "24     25   Product 25\n",
      "25     26   Product 26\n",
      "26     27   Product 27\n",
      "27     28   Product 28\n",
      "28     29   Product 29\n",
      "29     30   Product 30, '2017 Budgets':    Product Name  2017 Budgets\n",
      "0     Product 1   3016489.209\n",
      "1     Product 2   3050087.565\n",
      "2     Product 3   2642352.432\n",
      "3     Product 4   2885560.824\n",
      "4     Product 5   3925424.542\n",
      "5     Product 6   1672229.416\n",
      "6     Product 7    889737.555\n",
      "7     Product 8   1085037.329\n",
      "8     Product 9    710415.405\n",
      "9    Product 10    864331.624\n",
      "10   Product 11   1230458.484\n",
      "11   Product 12   1356976.996\n",
      "12   Product 13   3720639.645\n",
      "13   Product 14   4028698.409\n",
      "14   Product 15   3299478.315\n",
      "15   Product 16   2062061.144\n",
      "16   Product 17   2119616.824\n",
      "17   Product 18   2309499.045\n",
      "18   Product 19   1645841.600\n",
      "19   Product 20   2067108.120\n",
      "20   Product 21    959899.218\n",
      "21   Product 22    663601.902\n",
      "22   Product 23   1135815.758\n",
      "23   Product 24    756557.970\n",
      "24   Product 25   5342315.484\n",
      "25   Product 26   5685138.270\n",
      "26   Product 27    964940.231\n",
      "27   Product 28   1003867.767\n",
      "28   Product 29    594471.570\n",
      "29   Product 30   1011609.684}\n"
     ]
    }
   ],
   "source": [
    "print(sheets)"
   ]
  },
  {
   "cell_type": "markdown",
   "id": "8f5b2ded",
   "metadata": {},
   "source": [
    "Assign dataframe to each sheet"
   ]
  },
  {
   "cell_type": "code",
   "execution_count": 6,
   "id": "2e065ce8",
   "metadata": {},
   "outputs": [],
   "source": [
    "df_sales = sheets['Sales Orders']\n",
    "df_customers = sheets['Customers']\n",
    "df_products = sheets['Products']\n",
    "df_regions = sheets['Regions']\n",
    "df_state_reg = sheets['State Regions']\n",
    "df_budgets = sheets['2017 Budgets']\n"
   ]
  },
  {
   "cell_type": "code",
   "execution_count": 7,
   "id": "ea920489",
   "metadata": {},
   "outputs": [
    {
     "data": {
      "text/html": [
       "<div>\n",
       "<style scoped>\n",
       "    .dataframe tbody tr th:only-of-type {\n",
       "        vertical-align: middle;\n",
       "    }\n",
       "\n",
       "    .dataframe tbody tr th {\n",
       "        vertical-align: top;\n",
       "    }\n",
       "\n",
       "    .dataframe thead th {\n",
       "        text-align: right;\n",
       "    }\n",
       "</style>\n",
       "<table border=\"1\" class=\"dataframe\">\n",
       "  <thead>\n",
       "    <tr style=\"text-align: right;\">\n",
       "      <th></th>\n",
       "      <th>OrderNumber</th>\n",
       "      <th>OrderDate</th>\n",
       "      <th>Customer Name Index</th>\n",
       "      <th>Channel</th>\n",
       "      <th>Currency Code</th>\n",
       "      <th>Warehouse Code</th>\n",
       "      <th>Delivery Region Index</th>\n",
       "      <th>Product Description Index</th>\n",
       "      <th>Order Quantity</th>\n",
       "      <th>Unit Price</th>\n",
       "      <th>Line Total</th>\n",
       "      <th>Total Unit Cost</th>\n",
       "    </tr>\n",
       "  </thead>\n",
       "  <tbody>\n",
       "    <tr>\n",
       "      <th>0</th>\n",
       "      <td>SO - 000225</td>\n",
       "      <td>2014-01-01</td>\n",
       "      <td>126</td>\n",
       "      <td>Wholesale</td>\n",
       "      <td>USD</td>\n",
       "      <td>AXW291</td>\n",
       "      <td>364</td>\n",
       "      <td>27</td>\n",
       "      <td>6</td>\n",
       "      <td>2499.1</td>\n",
       "      <td>14994.6</td>\n",
       "      <td>1824.343</td>\n",
       "    </tr>\n",
       "    <tr>\n",
       "      <th>1</th>\n",
       "      <td>SO - 0003378</td>\n",
       "      <td>2014-01-01</td>\n",
       "      <td>96</td>\n",
       "      <td>Distributor</td>\n",
       "      <td>USD</td>\n",
       "      <td>AXW291</td>\n",
       "      <td>488</td>\n",
       "      <td>20</td>\n",
       "      <td>11</td>\n",
       "      <td>2351.7</td>\n",
       "      <td>25868.7</td>\n",
       "      <td>1269.918</td>\n",
       "    </tr>\n",
       "    <tr>\n",
       "      <th>2</th>\n",
       "      <td>SO - 0005126</td>\n",
       "      <td>2014-01-01</td>\n",
       "      <td>8</td>\n",
       "      <td>Wholesale</td>\n",
       "      <td>USD</td>\n",
       "      <td>AXW291</td>\n",
       "      <td>155</td>\n",
       "      <td>26</td>\n",
       "      <td>6</td>\n",
       "      <td>978.2</td>\n",
       "      <td>5869.2</td>\n",
       "      <td>684.740</td>\n",
       "    </tr>\n",
       "    <tr>\n",
       "      <th>3</th>\n",
       "      <td>SO - 0005614</td>\n",
       "      <td>2014-01-01</td>\n",
       "      <td>42</td>\n",
       "      <td>Export</td>\n",
       "      <td>USD</td>\n",
       "      <td>AXW291</td>\n",
       "      <td>473</td>\n",
       "      <td>7</td>\n",
       "      <td>7</td>\n",
       "      <td>2338.3</td>\n",
       "      <td>16368.1</td>\n",
       "      <td>1028.852</td>\n",
       "    </tr>\n",
       "    <tr>\n",
       "      <th>4</th>\n",
       "      <td>SO - 0005781</td>\n",
       "      <td>2014-01-01</td>\n",
       "      <td>73</td>\n",
       "      <td>Wholesale</td>\n",
       "      <td>USD</td>\n",
       "      <td>AXW291</td>\n",
       "      <td>256</td>\n",
       "      <td>8</td>\n",
       "      <td>8</td>\n",
       "      <td>2291.4</td>\n",
       "      <td>18331.2</td>\n",
       "      <td>1260.270</td>\n",
       "    </tr>\n",
       "  </tbody>\n",
       "</table>\n",
       "</div>"
      ],
      "text/plain": [
       "    OrderNumber  OrderDate  Customer Name Index      Channel Currency Code  \\\n",
       "0   SO - 000225 2014-01-01                  126    Wholesale           USD   \n",
       "1  SO - 0003378 2014-01-01                   96  Distributor           USD   \n",
       "2  SO - 0005126 2014-01-01                    8    Wholesale           USD   \n",
       "3  SO - 0005614 2014-01-01                   42       Export           USD   \n",
       "4  SO - 0005781 2014-01-01                   73    Wholesale           USD   \n",
       "\n",
       "  Warehouse Code  Delivery Region Index  Product Description Index  \\\n",
       "0         AXW291                    364                         27   \n",
       "1         AXW291                    488                         20   \n",
       "2         AXW291                    155                         26   \n",
       "3         AXW291                    473                          7   \n",
       "4         AXW291                    256                          8   \n",
       "\n",
       "   Order Quantity  Unit Price  Line Total  Total Unit Cost  \n",
       "0               6      2499.1     14994.6         1824.343  \n",
       "1              11      2351.7     25868.7         1269.918  \n",
       "2               6       978.2      5869.2          684.740  \n",
       "3               7      2338.3     16368.1         1028.852  \n",
       "4               8      2291.4     18331.2         1260.270  "
      ]
     },
     "execution_count": 7,
     "metadata": {},
     "output_type": "execute_result"
    }
   ],
   "source": [
    "df_sales.head()"
   ]
  },
  {
   "cell_type": "code",
   "execution_count": 8,
   "id": "336d3137",
   "metadata": {},
   "outputs": [
    {
     "data": {
      "text/plain": [
       "<bound method NDFrame.head of        Column1               Column2    Column3\n",
       "0   State Code                 State     Region\n",
       "1           AL               Alabama      South\n",
       "2           AR              Arkansas      South\n",
       "3           AZ               Arizona       West\n",
       "4           CA            California       West\n",
       "5           CO              Colorado       West\n",
       "6           CT           Connecticut  Northeast\n",
       "7           DC  District of Columbia      South\n",
       "8           DE              Delaware      South\n",
       "9           FL               Florida      South\n",
       "10          GA               Georgia      South\n",
       "11          HI                Hawaii       West\n",
       "12          IA                  Iowa    Midwest\n",
       "13          ID                 Idaho       West\n",
       "14          IL              Illinois    Midwest\n",
       "15          IN               Indiana    Midwest\n",
       "16          KS                Kansas    Midwest\n",
       "17          KY              Kentucky      South\n",
       "18          LA             Louisiana      South\n",
       "19          MA         Massachusetts  Northeast\n",
       "20          MD              Maryland      South\n",
       "21          ME                 Maine  Northeast\n",
       "22          MI              Michigan    Midwest\n",
       "23          MN             Minnesota    Midwest\n",
       "24          MO              Missouri    Midwest\n",
       "25          MS           Mississippi      South\n",
       "26          MT               Montana       West\n",
       "27          NC        North Carolina      South\n",
       "28          ND          North Dakota    Midwest\n",
       "29          NE              Nebraska    Midwest\n",
       "30          NH         New Hampshire  Northeast\n",
       "31          NJ            New Jersey  Northeast\n",
       "32          NM            New Mexico       West\n",
       "33          NV                Nevada       West\n",
       "34          NY              New York  Northeast\n",
       "35          OH                  Ohio    Midwest\n",
       "36          OK              Oklahoma      South\n",
       "37          OR                Oregon       West\n",
       "38          PA          Pennsylvania  Northeast\n",
       "39          RI          Rhode Island  Northeast\n",
       "40          SC        South Carolina      South\n",
       "41          SD          South Dakota    Midwest\n",
       "42          TN             Tennessee      South\n",
       "43          TX                 Texas      South\n",
       "44          UT                  Utah       West\n",
       "45          VA              Virginia      South\n",
       "46          WA            Washington       West\n",
       "47          WI             Wisconsin    Midwest\n",
       "48          WY               Wyoming       West>"
      ]
     },
     "execution_count": 8,
     "metadata": {},
     "output_type": "execute_result"
    }
   ],
   "source": [
    "df_state_reg.head"
   ]
  },
  {
   "cell_type": "code",
   "execution_count": 9,
   "id": "524eaf1b",
   "metadata": {},
   "outputs": [
    {
     "data": {
      "text/plain": [
       "<bound method NDFrame.head of 0  State Code                 State     Region\n",
       "0          AL               Alabama      South\n",
       "1          AR              Arkansas      South\n",
       "2          AZ               Arizona       West\n",
       "3          CA            California       West\n",
       "4          CO              Colorado       West\n",
       "5          CT           Connecticut  Northeast\n",
       "6          DC  District of Columbia      South\n",
       "7          DE              Delaware      South\n",
       "8          FL               Florida      South\n",
       "9          GA               Georgia      South\n",
       "10         HI                Hawaii       West\n",
       "11         IA                  Iowa    Midwest\n",
       "12         ID                 Idaho       West\n",
       "13         IL              Illinois    Midwest\n",
       "14         IN               Indiana    Midwest\n",
       "15         KS                Kansas    Midwest\n",
       "16         KY              Kentucky      South\n",
       "17         LA             Louisiana      South\n",
       "18         MA         Massachusetts  Northeast\n",
       "19         MD              Maryland      South\n",
       "20         ME                 Maine  Northeast\n",
       "21         MI              Michigan    Midwest\n",
       "22         MN             Minnesota    Midwest\n",
       "23         MO              Missouri    Midwest\n",
       "24         MS           Mississippi      South\n",
       "25         MT               Montana       West\n",
       "26         NC        North Carolina      South\n",
       "27         ND          North Dakota    Midwest\n",
       "28         NE              Nebraska    Midwest\n",
       "29         NH         New Hampshire  Northeast\n",
       "30         NJ            New Jersey  Northeast\n",
       "31         NM            New Mexico       West\n",
       "32         NV                Nevada       West\n",
       "33         NY              New York  Northeast\n",
       "34         OH                  Ohio    Midwest\n",
       "35         OK              Oklahoma      South\n",
       "36         OR                Oregon       West\n",
       "37         PA          Pennsylvania  Northeast\n",
       "38         RI          Rhode Island  Northeast\n",
       "39         SC        South Carolina      South\n",
       "40         SD          South Dakota    Midwest\n",
       "41         TN             Tennessee      South\n",
       "42         TX                 Texas      South\n",
       "43         UT                  Utah       West\n",
       "44         VA              Virginia      South\n",
       "45         WA            Washington       West\n",
       "46         WI             Wisconsin    Midwest\n",
       "47         WY               Wyoming       West>"
      ]
     },
     "execution_count": 9,
     "metadata": {},
     "output_type": "execute_result"
    }
   ],
   "source": [
    "new_header = df_state_reg.iloc[0]\n",
    "df_state_reg.columns = new_header\n",
    "df_state_reg = df_state_reg[1:].reset_index(drop=True)\n",
    "\n",
    "df_state_reg.head"
   ]
  },
  {
   "cell_type": "code",
   "execution_count": 10,
   "id": "adb4a723",
   "metadata": {},
   "outputs": [
    {
     "data": {
      "text/plain": [
       "OrderNumber                  0\n",
       "OrderDate                    0\n",
       "Customer Name Index          0\n",
       "Channel                      0\n",
       "Currency Code                0\n",
       "Warehouse Code               0\n",
       "Delivery Region Index        0\n",
       "Product Description Index    0\n",
       "Order Quantity               0\n",
       "Unit Price                   0\n",
       "Line Total                   0\n",
       "Total Unit Cost              0\n",
       "dtype: int64"
      ]
     },
     "execution_count": 10,
     "metadata": {},
     "output_type": "execute_result"
    }
   ],
   "source": [
    "df_sales.isnull().sum()"
   ]
  },
  {
   "cell_type": "code",
   "execution_count": 11,
   "id": "4b10dd3b",
   "metadata": {},
   "outputs": [
    {
     "data": {
      "text/plain": [
       "Product Name    0\n",
       "2017 Budgets    0\n",
       "dtype: int64"
      ]
     },
     "execution_count": 11,
     "metadata": {},
     "output_type": "execute_result"
    }
   ],
   "source": [
    "df_budgets.isnull().sum()\n"
   ]
  },
  {
   "cell_type": "code",
   "execution_count": 12,
   "id": "e3dd7b0e",
   "metadata": {},
   "outputs": [
    {
     "data": {
      "text/plain": [
       "Customer Index    0\n",
       "Customer Names    0\n",
       "dtype: int64"
      ]
     },
     "execution_count": 12,
     "metadata": {},
     "output_type": "execute_result"
    }
   ],
   "source": [
    "df_customers.isnull().sum()\n"
   ]
  },
  {
   "cell_type": "code",
   "execution_count": 13,
   "id": "870677d3",
   "metadata": {},
   "outputs": [
    {
     "data": {
      "text/plain": [
       "Index           0\n",
       "Product Name    0\n",
       "dtype: int64"
      ]
     },
     "execution_count": 13,
     "metadata": {},
     "output_type": "execute_result"
    }
   ],
   "source": [
    "df_products.isnull().sum()\n"
   ]
  },
  {
   "cell_type": "code",
   "execution_count": 14,
   "id": "47c97a60",
   "metadata": {},
   "outputs": [
    {
     "data": {
      "text/plain": [
       "id               0\n",
       "name             0\n",
       "county           0\n",
       "state_code       0\n",
       "state            0\n",
       "type             0\n",
       "latitude         0\n",
       "longitude        0\n",
       "area_code        0\n",
       "population       0\n",
       "households       0\n",
       "median_income    0\n",
       "land_area        0\n",
       "water_area       0\n",
       "time_zone        0\n",
       "dtype: int64"
      ]
     },
     "execution_count": 14,
     "metadata": {},
     "output_type": "execute_result"
    }
   ],
   "source": [
    "df_regions.isnull().sum()\n"
   ]
  },
  {
   "cell_type": "code",
   "execution_count": 15,
   "id": "7f35e792",
   "metadata": {},
   "outputs": [
    {
     "data": {
      "text/plain": [
       "0\n",
       "State Code    0\n",
       "State         0\n",
       "Region        0\n",
       "dtype: int64"
      ]
     },
     "execution_count": 15,
     "metadata": {},
     "output_type": "execute_result"
    }
   ],
   "source": [
    "df_state_reg.isnull().sum()"
   ]
  },
  {
   "cell_type": "markdown",
   "id": "f3821f52",
   "metadata": {},
   "source": [
    "DATA CLEANING"
   ]
  },
  {
   "cell_type": "code",
   "execution_count": 16,
   "id": "1b13b2e8",
   "metadata": {},
   "outputs": [],
   "source": [
    "# Merge with customers\n",
    "\n",
    "df =df_sales.merge(df_customers, how='left', left_on='Customer Name Index', right_on='Customer Index')\n"
   ]
  },
  {
   "cell_type": "code",
   "execution_count": 17,
   "id": "f13a1955",
   "metadata": {},
   "outputs": [
    {
     "data": {
      "text/html": [
       "<div>\n",
       "<style scoped>\n",
       "    .dataframe tbody tr th:only-of-type {\n",
       "        vertical-align: middle;\n",
       "    }\n",
       "\n",
       "    .dataframe tbody tr th {\n",
       "        vertical-align: top;\n",
       "    }\n",
       "\n",
       "    .dataframe thead th {\n",
       "        text-align: right;\n",
       "    }\n",
       "</style>\n",
       "<table border=\"1\" class=\"dataframe\">\n",
       "  <thead>\n",
       "    <tr style=\"text-align: right;\">\n",
       "      <th></th>\n",
       "      <th>OrderNumber</th>\n",
       "      <th>OrderDate</th>\n",
       "      <th>Customer Name Index</th>\n",
       "      <th>Channel</th>\n",
       "      <th>Currency Code</th>\n",
       "      <th>Warehouse Code</th>\n",
       "      <th>Delivery Region Index</th>\n",
       "      <th>Product Description Index</th>\n",
       "      <th>Order Quantity</th>\n",
       "      <th>Unit Price</th>\n",
       "      <th>Line Total</th>\n",
       "      <th>Total Unit Cost</th>\n",
       "      <th>Customer Index</th>\n",
       "      <th>Customer Names</th>\n",
       "    </tr>\n",
       "  </thead>\n",
       "  <tbody>\n",
       "    <tr>\n",
       "      <th>0</th>\n",
       "      <td>SO - 000225</td>\n",
       "      <td>2014-01-01</td>\n",
       "      <td>126</td>\n",
       "      <td>Wholesale</td>\n",
       "      <td>USD</td>\n",
       "      <td>AXW291</td>\n",
       "      <td>364</td>\n",
       "      <td>27</td>\n",
       "      <td>6</td>\n",
       "      <td>2499.1</td>\n",
       "      <td>14994.6</td>\n",
       "      <td>1824.343</td>\n",
       "      <td>126</td>\n",
       "      <td>Rhynoodle Ltd</td>\n",
       "    </tr>\n",
       "    <tr>\n",
       "      <th>1</th>\n",
       "      <td>SO - 0003378</td>\n",
       "      <td>2014-01-01</td>\n",
       "      <td>96</td>\n",
       "      <td>Distributor</td>\n",
       "      <td>USD</td>\n",
       "      <td>AXW291</td>\n",
       "      <td>488</td>\n",
       "      <td>20</td>\n",
       "      <td>11</td>\n",
       "      <td>2351.7</td>\n",
       "      <td>25868.7</td>\n",
       "      <td>1269.918</td>\n",
       "      <td>96</td>\n",
       "      <td>Thoughtmix Ltd</td>\n",
       "    </tr>\n",
       "    <tr>\n",
       "      <th>2</th>\n",
       "      <td>SO - 0005126</td>\n",
       "      <td>2014-01-01</td>\n",
       "      <td>8</td>\n",
       "      <td>Wholesale</td>\n",
       "      <td>USD</td>\n",
       "      <td>AXW291</td>\n",
       "      <td>155</td>\n",
       "      <td>26</td>\n",
       "      <td>6</td>\n",
       "      <td>978.2</td>\n",
       "      <td>5869.2</td>\n",
       "      <td>684.740</td>\n",
       "      <td>8</td>\n",
       "      <td>Amerisourc Corp</td>\n",
       "    </tr>\n",
       "    <tr>\n",
       "      <th>3</th>\n",
       "      <td>SO - 0005614</td>\n",
       "      <td>2014-01-01</td>\n",
       "      <td>42</td>\n",
       "      <td>Export</td>\n",
       "      <td>USD</td>\n",
       "      <td>AXW291</td>\n",
       "      <td>473</td>\n",
       "      <td>7</td>\n",
       "      <td>7</td>\n",
       "      <td>2338.3</td>\n",
       "      <td>16368.1</td>\n",
       "      <td>1028.852</td>\n",
       "      <td>42</td>\n",
       "      <td>Colgate-Pa Group</td>\n",
       "    </tr>\n",
       "    <tr>\n",
       "      <th>4</th>\n",
       "      <td>SO - 0005781</td>\n",
       "      <td>2014-01-01</td>\n",
       "      <td>73</td>\n",
       "      <td>Wholesale</td>\n",
       "      <td>USD</td>\n",
       "      <td>AXW291</td>\n",
       "      <td>256</td>\n",
       "      <td>8</td>\n",
       "      <td>8</td>\n",
       "      <td>2291.4</td>\n",
       "      <td>18331.2</td>\n",
       "      <td>1260.270</td>\n",
       "      <td>73</td>\n",
       "      <td>Deseret Group</td>\n",
       "    </tr>\n",
       "  </tbody>\n",
       "</table>\n",
       "</div>"
      ],
      "text/plain": [
       "    OrderNumber  OrderDate  Customer Name Index      Channel Currency Code  \\\n",
       "0   SO - 000225 2014-01-01                  126    Wholesale           USD   \n",
       "1  SO - 0003378 2014-01-01                   96  Distributor           USD   \n",
       "2  SO - 0005126 2014-01-01                    8    Wholesale           USD   \n",
       "3  SO - 0005614 2014-01-01                   42       Export           USD   \n",
       "4  SO - 0005781 2014-01-01                   73    Wholesale           USD   \n",
       "\n",
       "  Warehouse Code  Delivery Region Index  Product Description Index  \\\n",
       "0         AXW291                    364                         27   \n",
       "1         AXW291                    488                         20   \n",
       "2         AXW291                    155                         26   \n",
       "3         AXW291                    473                          7   \n",
       "4         AXW291                    256                          8   \n",
       "\n",
       "   Order Quantity  Unit Price  Line Total  Total Unit Cost  Customer Index  \\\n",
       "0               6      2499.1     14994.6         1824.343             126   \n",
       "1              11      2351.7     25868.7         1269.918              96   \n",
       "2               6       978.2      5869.2          684.740               8   \n",
       "3               7      2338.3     16368.1         1028.852              42   \n",
       "4               8      2291.4     18331.2         1260.270              73   \n",
       "\n",
       "     Customer Names  \n",
       "0     Rhynoodle Ltd  \n",
       "1    Thoughtmix Ltd  \n",
       "2   Amerisourc Corp  \n",
       "3  Colgate-Pa Group  \n",
       "4     Deseret Group  "
      ]
     },
     "execution_count": 17,
     "metadata": {},
     "output_type": "execute_result"
    }
   ],
   "source": [
    "df.head()"
   ]
  },
  {
   "cell_type": "code",
   "execution_count": 18,
   "id": "4ba5b5d5",
   "metadata": {},
   "outputs": [],
   "source": [
    "# Merge with products\n",
    "\n",
    "df= df.merge(df_products, how='left', left_on='Product Description Index', right_on='Index')"
   ]
  },
  {
   "cell_type": "code",
   "execution_count": 19,
   "id": "e5ce96e8",
   "metadata": {},
   "outputs": [
    {
     "data": {
      "text/html": [
       "<div>\n",
       "<style scoped>\n",
       "    .dataframe tbody tr th:only-of-type {\n",
       "        vertical-align: middle;\n",
       "    }\n",
       "\n",
       "    .dataframe tbody tr th {\n",
       "        vertical-align: top;\n",
       "    }\n",
       "\n",
       "    .dataframe thead th {\n",
       "        text-align: right;\n",
       "    }\n",
       "</style>\n",
       "<table border=\"1\" class=\"dataframe\">\n",
       "  <thead>\n",
       "    <tr style=\"text-align: right;\">\n",
       "      <th></th>\n",
       "      <th>OrderNumber</th>\n",
       "      <th>OrderDate</th>\n",
       "      <th>Customer Name Index</th>\n",
       "      <th>Channel</th>\n",
       "      <th>Currency Code</th>\n",
       "      <th>Warehouse Code</th>\n",
       "      <th>Delivery Region Index</th>\n",
       "      <th>Product Description Index</th>\n",
       "      <th>Order Quantity</th>\n",
       "      <th>Unit Price</th>\n",
       "      <th>Line Total</th>\n",
       "      <th>Total Unit Cost</th>\n",
       "      <th>Customer Index</th>\n",
       "      <th>Customer Names</th>\n",
       "      <th>Index</th>\n",
       "      <th>Product Name</th>\n",
       "    </tr>\n",
       "  </thead>\n",
       "  <tbody>\n",
       "    <tr>\n",
       "      <th>0</th>\n",
       "      <td>SO - 000225</td>\n",
       "      <td>2014-01-01</td>\n",
       "      <td>126</td>\n",
       "      <td>Wholesale</td>\n",
       "      <td>USD</td>\n",
       "      <td>AXW291</td>\n",
       "      <td>364</td>\n",
       "      <td>27</td>\n",
       "      <td>6</td>\n",
       "      <td>2499.1</td>\n",
       "      <td>14994.6</td>\n",
       "      <td>1824.343</td>\n",
       "      <td>126</td>\n",
       "      <td>Rhynoodle Ltd</td>\n",
       "      <td>27</td>\n",
       "      <td>Product 27</td>\n",
       "    </tr>\n",
       "    <tr>\n",
       "      <th>1</th>\n",
       "      <td>SO - 0003378</td>\n",
       "      <td>2014-01-01</td>\n",
       "      <td>96</td>\n",
       "      <td>Distributor</td>\n",
       "      <td>USD</td>\n",
       "      <td>AXW291</td>\n",
       "      <td>488</td>\n",
       "      <td>20</td>\n",
       "      <td>11</td>\n",
       "      <td>2351.7</td>\n",
       "      <td>25868.7</td>\n",
       "      <td>1269.918</td>\n",
       "      <td>96</td>\n",
       "      <td>Thoughtmix Ltd</td>\n",
       "      <td>20</td>\n",
       "      <td>Product 20</td>\n",
       "    </tr>\n",
       "    <tr>\n",
       "      <th>2</th>\n",
       "      <td>SO - 0005126</td>\n",
       "      <td>2014-01-01</td>\n",
       "      <td>8</td>\n",
       "      <td>Wholesale</td>\n",
       "      <td>USD</td>\n",
       "      <td>AXW291</td>\n",
       "      <td>155</td>\n",
       "      <td>26</td>\n",
       "      <td>6</td>\n",
       "      <td>978.2</td>\n",
       "      <td>5869.2</td>\n",
       "      <td>684.740</td>\n",
       "      <td>8</td>\n",
       "      <td>Amerisourc Corp</td>\n",
       "      <td>26</td>\n",
       "      <td>Product 26</td>\n",
       "    </tr>\n",
       "    <tr>\n",
       "      <th>3</th>\n",
       "      <td>SO - 0005614</td>\n",
       "      <td>2014-01-01</td>\n",
       "      <td>42</td>\n",
       "      <td>Export</td>\n",
       "      <td>USD</td>\n",
       "      <td>AXW291</td>\n",
       "      <td>473</td>\n",
       "      <td>7</td>\n",
       "      <td>7</td>\n",
       "      <td>2338.3</td>\n",
       "      <td>16368.1</td>\n",
       "      <td>1028.852</td>\n",
       "      <td>42</td>\n",
       "      <td>Colgate-Pa Group</td>\n",
       "      <td>7</td>\n",
       "      <td>Product 7</td>\n",
       "    </tr>\n",
       "    <tr>\n",
       "      <th>4</th>\n",
       "      <td>SO - 0005781</td>\n",
       "      <td>2014-01-01</td>\n",
       "      <td>73</td>\n",
       "      <td>Wholesale</td>\n",
       "      <td>USD</td>\n",
       "      <td>AXW291</td>\n",
       "      <td>256</td>\n",
       "      <td>8</td>\n",
       "      <td>8</td>\n",
       "      <td>2291.4</td>\n",
       "      <td>18331.2</td>\n",
       "      <td>1260.270</td>\n",
       "      <td>73</td>\n",
       "      <td>Deseret Group</td>\n",
       "      <td>8</td>\n",
       "      <td>Product 8</td>\n",
       "    </tr>\n",
       "  </tbody>\n",
       "</table>\n",
       "</div>"
      ],
      "text/plain": [
       "    OrderNumber  OrderDate  Customer Name Index      Channel Currency Code  \\\n",
       "0   SO - 000225 2014-01-01                  126    Wholesale           USD   \n",
       "1  SO - 0003378 2014-01-01                   96  Distributor           USD   \n",
       "2  SO - 0005126 2014-01-01                    8    Wholesale           USD   \n",
       "3  SO - 0005614 2014-01-01                   42       Export           USD   \n",
       "4  SO - 0005781 2014-01-01                   73    Wholesale           USD   \n",
       "\n",
       "  Warehouse Code  Delivery Region Index  Product Description Index  \\\n",
       "0         AXW291                    364                         27   \n",
       "1         AXW291                    488                         20   \n",
       "2         AXW291                    155                         26   \n",
       "3         AXW291                    473                          7   \n",
       "4         AXW291                    256                          8   \n",
       "\n",
       "   Order Quantity  Unit Price  Line Total  Total Unit Cost  Customer Index  \\\n",
       "0               6      2499.1     14994.6         1824.343             126   \n",
       "1              11      2351.7     25868.7         1269.918              96   \n",
       "2               6       978.2      5869.2          684.740               8   \n",
       "3               7      2338.3     16368.1         1028.852              42   \n",
       "4               8      2291.4     18331.2         1260.270              73   \n",
       "\n",
       "     Customer Names  Index Product Name  \n",
       "0     Rhynoodle Ltd     27   Product 27  \n",
       "1    Thoughtmix Ltd     20   Product 20  \n",
       "2   Amerisourc Corp     26   Product 26  \n",
       "3  Colgate-Pa Group      7    Product 7  \n",
       "4     Deseret Group      8    Product 8  "
      ]
     },
     "execution_count": 19,
     "metadata": {},
     "output_type": "execute_result"
    }
   ],
   "source": [
    "df.head()"
   ]
  },
  {
   "cell_type": "code",
   "execution_count": 20,
   "id": "12867609",
   "metadata": {},
   "outputs": [],
   "source": [
    "# Merge with regions \n",
    "\n",
    "df= df.merge(df_regions, how='left', left_on='Delivery Region Index', right_on='id')"
   ]
  },
  {
   "cell_type": "code",
   "execution_count": 21,
   "id": "d32879a3",
   "metadata": {},
   "outputs": [
    {
     "data": {
      "text/html": [
       "<div>\n",
       "<style scoped>\n",
       "    .dataframe tbody tr th:only-of-type {\n",
       "        vertical-align: middle;\n",
       "    }\n",
       "\n",
       "    .dataframe tbody tr th {\n",
       "        vertical-align: top;\n",
       "    }\n",
       "\n",
       "    .dataframe thead th {\n",
       "        text-align: right;\n",
       "    }\n",
       "</style>\n",
       "<table border=\"1\" class=\"dataframe\">\n",
       "  <thead>\n",
       "    <tr style=\"text-align: right;\">\n",
       "      <th></th>\n",
       "      <th>OrderNumber</th>\n",
       "      <th>OrderDate</th>\n",
       "      <th>Customer Name Index</th>\n",
       "      <th>Channel</th>\n",
       "      <th>Currency Code</th>\n",
       "      <th>Warehouse Code</th>\n",
       "      <th>Delivery Region Index</th>\n",
       "      <th>Product Description Index</th>\n",
       "      <th>Order Quantity</th>\n",
       "      <th>Unit Price</th>\n",
       "      <th>...</th>\n",
       "      <th>type</th>\n",
       "      <th>latitude</th>\n",
       "      <th>longitude</th>\n",
       "      <th>area_code</th>\n",
       "      <th>population</th>\n",
       "      <th>households</th>\n",
       "      <th>median_income</th>\n",
       "      <th>land_area</th>\n",
       "      <th>water_area</th>\n",
       "      <th>time_zone</th>\n",
       "    </tr>\n",
       "  </thead>\n",
       "  <tbody>\n",
       "    <tr>\n",
       "      <th>0</th>\n",
       "      <td>SO - 000225</td>\n",
       "      <td>2014-01-01</td>\n",
       "      <td>126</td>\n",
       "      <td>Wholesale</td>\n",
       "      <td>USD</td>\n",
       "      <td>AXW291</td>\n",
       "      <td>364</td>\n",
       "      <td>27</td>\n",
       "      <td>6</td>\n",
       "      <td>2499.1</td>\n",
       "      <td>...</td>\n",
       "      <td>City</td>\n",
       "      <td>32.08354</td>\n",
       "      <td>-81.09983</td>\n",
       "      <td>912</td>\n",
       "      <td>145674</td>\n",
       "      <td>52798</td>\n",
       "      <td>36466</td>\n",
       "      <td>268318796</td>\n",
       "      <td>13908113</td>\n",
       "      <td>America/New York</td>\n",
       "    </tr>\n",
       "    <tr>\n",
       "      <th>1</th>\n",
       "      <td>SO - 0003378</td>\n",
       "      <td>2014-01-01</td>\n",
       "      <td>96</td>\n",
       "      <td>Distributor</td>\n",
       "      <td>USD</td>\n",
       "      <td>AXW291</td>\n",
       "      <td>488</td>\n",
       "      <td>20</td>\n",
       "      <td>11</td>\n",
       "      <td>2351.7</td>\n",
       "      <td>...</td>\n",
       "      <td>City</td>\n",
       "      <td>39.61366</td>\n",
       "      <td>-86.10665</td>\n",
       "      <td>317</td>\n",
       "      <td>55586</td>\n",
       "      <td>20975</td>\n",
       "      <td>54176</td>\n",
       "      <td>72276415</td>\n",
       "      <td>1883</td>\n",
       "      <td>America/Indiana/Indianapolis</td>\n",
       "    </tr>\n",
       "    <tr>\n",
       "      <th>2</th>\n",
       "      <td>SO - 0005126</td>\n",
       "      <td>2014-01-01</td>\n",
       "      <td>8</td>\n",
       "      <td>Wholesale</td>\n",
       "      <td>USD</td>\n",
       "      <td>AXW291</td>\n",
       "      <td>155</td>\n",
       "      <td>26</td>\n",
       "      <td>6</td>\n",
       "      <td>978.2</td>\n",
       "      <td>...</td>\n",
       "      <td>City</td>\n",
       "      <td>37.66243</td>\n",
       "      <td>-121.87468</td>\n",
       "      <td>925</td>\n",
       "      <td>79510</td>\n",
       "      <td>26020</td>\n",
       "      <td>124759</td>\n",
       "      <td>62489257</td>\n",
       "      <td>386195</td>\n",
       "      <td>America/Los Angeles</td>\n",
       "    </tr>\n",
       "    <tr>\n",
       "      <th>3</th>\n",
       "      <td>SO - 0005614</td>\n",
       "      <td>2014-01-01</td>\n",
       "      <td>42</td>\n",
       "      <td>Export</td>\n",
       "      <td>USD</td>\n",
       "      <td>AXW291</td>\n",
       "      <td>473</td>\n",
       "      <td>7</td>\n",
       "      <td>7</td>\n",
       "      <td>2338.3</td>\n",
       "      <td>...</td>\n",
       "      <td>City</td>\n",
       "      <td>39.16533</td>\n",
       "      <td>-86.52639</td>\n",
       "      <td>812</td>\n",
       "      <td>84067</td>\n",
       "      <td>30232</td>\n",
       "      <td>30019</td>\n",
       "      <td>60221613</td>\n",
       "      <td>475857</td>\n",
       "      <td>America/Indiana/Indianapolis</td>\n",
       "    </tr>\n",
       "    <tr>\n",
       "      <th>4</th>\n",
       "      <td>SO - 0005781</td>\n",
       "      <td>2014-01-01</td>\n",
       "      <td>73</td>\n",
       "      <td>Wholesale</td>\n",
       "      <td>USD</td>\n",
       "      <td>AXW291</td>\n",
       "      <td>256</td>\n",
       "      <td>8</td>\n",
       "      <td>8</td>\n",
       "      <td>2291.4</td>\n",
       "      <td>...</td>\n",
       "      <td>Town</td>\n",
       "      <td>41.77524</td>\n",
       "      <td>-72.52443</td>\n",
       "      <td>959</td>\n",
       "      <td>58007</td>\n",
       "      <td>24141</td>\n",
       "      <td>63158</td>\n",
       "      <td>70972793</td>\n",
       "      <td>720300</td>\n",
       "      <td>America/New York</td>\n",
       "    </tr>\n",
       "  </tbody>\n",
       "</table>\n",
       "<p>5 rows × 31 columns</p>\n",
       "</div>"
      ],
      "text/plain": [
       "    OrderNumber  OrderDate  Customer Name Index      Channel Currency Code  \\\n",
       "0   SO - 000225 2014-01-01                  126    Wholesale           USD   \n",
       "1  SO - 0003378 2014-01-01                   96  Distributor           USD   \n",
       "2  SO - 0005126 2014-01-01                    8    Wholesale           USD   \n",
       "3  SO - 0005614 2014-01-01                   42       Export           USD   \n",
       "4  SO - 0005781 2014-01-01                   73    Wholesale           USD   \n",
       "\n",
       "  Warehouse Code  Delivery Region Index  Product Description Index  \\\n",
       "0         AXW291                    364                         27   \n",
       "1         AXW291                    488                         20   \n",
       "2         AXW291                    155                         26   \n",
       "3         AXW291                    473                          7   \n",
       "4         AXW291                    256                          8   \n",
       "\n",
       "   Order Quantity  Unit Price  ...  type  latitude  longitude area_code  \\\n",
       "0               6      2499.1  ...  City  32.08354  -81.09983       912   \n",
       "1              11      2351.7  ...  City  39.61366  -86.10665       317   \n",
       "2               6       978.2  ...  City  37.66243 -121.87468       925   \n",
       "3               7      2338.3  ...  City  39.16533  -86.52639       812   \n",
       "4               8      2291.4  ...  Town  41.77524  -72.52443       959   \n",
       "\n",
       "   population households  median_income  land_area water_area  \\\n",
       "0      145674      52798          36466  268318796   13908113   \n",
       "1       55586      20975          54176   72276415       1883   \n",
       "2       79510      26020         124759   62489257     386195   \n",
       "3       84067      30232          30019   60221613     475857   \n",
       "4       58007      24141          63158   70972793     720300   \n",
       "\n",
       "                      time_zone  \n",
       "0              America/New York  \n",
       "1  America/Indiana/Indianapolis  \n",
       "2           America/Los Angeles  \n",
       "3  America/Indiana/Indianapolis  \n",
       "4              America/New York  \n",
       "\n",
       "[5 rows x 31 columns]"
      ]
     },
     "execution_count": 21,
     "metadata": {},
     "output_type": "execute_result"
    }
   ],
   "source": [
    "df.head()"
   ]
  },
  {
   "cell_type": "code",
   "execution_count": 22,
   "id": "126e54b6",
   "metadata": {},
   "outputs": [
    {
     "data": {
      "text/plain": [
       "array(['OrderNumber', 'OrderDate', 'Customer Name Index', 'Channel',\n",
       "       'Currency Code', 'Warehouse Code', 'Delivery Region Index',\n",
       "       'Product Description Index', 'Order Quantity', 'Unit Price',\n",
       "       'Line Total', 'Total Unit Cost', 'Customer Index',\n",
       "       'Customer Names', 'Index', 'Product Name', 'id', 'name', 'county',\n",
       "       'state_code', 'state', 'type', 'latitude', 'longitude',\n",
       "       'area_code', 'population', 'households', 'median_income',\n",
       "       'land_area', 'water_area', 'time_zone'], dtype=object)"
      ]
     },
     "execution_count": 22,
     "metadata": {},
     "output_type": "execute_result"
    }
   ],
   "source": [
    "df.columns.values\n"
   ]
  },
  {
   "cell_type": "code",
   "execution_count": 23,
   "id": "9732c63d",
   "metadata": {},
   "outputs": [],
   "source": [
    "# Merge with budgets\n",
    "\n",
    "df= df.merge(df_budgets, how='left', on='Product Name')"
   ]
  },
  {
   "cell_type": "code",
   "execution_count": 24,
   "id": "ee38b7b0",
   "metadata": {},
   "outputs": [],
   "source": [
    "# Merge with state regions\n",
    "\n",
    "df= df.merge(df_state_reg[[\"State Code\",\"Region\"]], how='left', left_on='state_code', right_on='State Code')"
   ]
  },
  {
   "cell_type": "code",
   "execution_count": 25,
   "id": "e4d403de",
   "metadata": {},
   "outputs": [
    {
     "data": {
      "text/html": [
       "<div>\n",
       "<style scoped>\n",
       "    .dataframe tbody tr th:only-of-type {\n",
       "        vertical-align: middle;\n",
       "    }\n",
       "\n",
       "    .dataframe tbody tr th {\n",
       "        vertical-align: top;\n",
       "    }\n",
       "\n",
       "    .dataframe thead th {\n",
       "        text-align: right;\n",
       "    }\n",
       "</style>\n",
       "<table border=\"1\" class=\"dataframe\">\n",
       "  <thead>\n",
       "    <tr style=\"text-align: right;\">\n",
       "      <th></th>\n",
       "      <th>OrderNumber</th>\n",
       "      <th>OrderDate</th>\n",
       "      <th>Customer Name Index</th>\n",
       "      <th>Channel</th>\n",
       "      <th>Currency Code</th>\n",
       "      <th>Warehouse Code</th>\n",
       "      <th>Delivery Region Index</th>\n",
       "      <th>Product Description Index</th>\n",
       "      <th>Order Quantity</th>\n",
       "      <th>Unit Price</th>\n",
       "      <th>...</th>\n",
       "      <th>area_code</th>\n",
       "      <th>population</th>\n",
       "      <th>households</th>\n",
       "      <th>median_income</th>\n",
       "      <th>land_area</th>\n",
       "      <th>water_area</th>\n",
       "      <th>time_zone</th>\n",
       "      <th>2017 Budgets</th>\n",
       "      <th>State Code</th>\n",
       "      <th>Region</th>\n",
       "    </tr>\n",
       "  </thead>\n",
       "  <tbody>\n",
       "    <tr>\n",
       "      <th>0</th>\n",
       "      <td>SO - 000225</td>\n",
       "      <td>2014-01-01</td>\n",
       "      <td>126</td>\n",
       "      <td>Wholesale</td>\n",
       "      <td>USD</td>\n",
       "      <td>AXW291</td>\n",
       "      <td>364</td>\n",
       "      <td>27</td>\n",
       "      <td>6</td>\n",
       "      <td>2499.1</td>\n",
       "      <td>...</td>\n",
       "      <td>912</td>\n",
       "      <td>145674</td>\n",
       "      <td>52798</td>\n",
       "      <td>36466</td>\n",
       "      <td>268318796</td>\n",
       "      <td>13908113</td>\n",
       "      <td>America/New York</td>\n",
       "      <td>964940.231</td>\n",
       "      <td>GA</td>\n",
       "      <td>South</td>\n",
       "    </tr>\n",
       "    <tr>\n",
       "      <th>1</th>\n",
       "      <td>SO - 0003378</td>\n",
       "      <td>2014-01-01</td>\n",
       "      <td>96</td>\n",
       "      <td>Distributor</td>\n",
       "      <td>USD</td>\n",
       "      <td>AXW291</td>\n",
       "      <td>488</td>\n",
       "      <td>20</td>\n",
       "      <td>11</td>\n",
       "      <td>2351.7</td>\n",
       "      <td>...</td>\n",
       "      <td>317</td>\n",
       "      <td>55586</td>\n",
       "      <td>20975</td>\n",
       "      <td>54176</td>\n",
       "      <td>72276415</td>\n",
       "      <td>1883</td>\n",
       "      <td>America/Indiana/Indianapolis</td>\n",
       "      <td>2067108.120</td>\n",
       "      <td>IN</td>\n",
       "      <td>Midwest</td>\n",
       "    </tr>\n",
       "    <tr>\n",
       "      <th>2</th>\n",
       "      <td>SO - 0005126</td>\n",
       "      <td>2014-01-01</td>\n",
       "      <td>8</td>\n",
       "      <td>Wholesale</td>\n",
       "      <td>USD</td>\n",
       "      <td>AXW291</td>\n",
       "      <td>155</td>\n",
       "      <td>26</td>\n",
       "      <td>6</td>\n",
       "      <td>978.2</td>\n",
       "      <td>...</td>\n",
       "      <td>925</td>\n",
       "      <td>79510</td>\n",
       "      <td>26020</td>\n",
       "      <td>124759</td>\n",
       "      <td>62489257</td>\n",
       "      <td>386195</td>\n",
       "      <td>America/Los Angeles</td>\n",
       "      <td>5685138.270</td>\n",
       "      <td>CA</td>\n",
       "      <td>West</td>\n",
       "    </tr>\n",
       "    <tr>\n",
       "      <th>3</th>\n",
       "      <td>SO - 0005614</td>\n",
       "      <td>2014-01-01</td>\n",
       "      <td>42</td>\n",
       "      <td>Export</td>\n",
       "      <td>USD</td>\n",
       "      <td>AXW291</td>\n",
       "      <td>473</td>\n",
       "      <td>7</td>\n",
       "      <td>7</td>\n",
       "      <td>2338.3</td>\n",
       "      <td>...</td>\n",
       "      <td>812</td>\n",
       "      <td>84067</td>\n",
       "      <td>30232</td>\n",
       "      <td>30019</td>\n",
       "      <td>60221613</td>\n",
       "      <td>475857</td>\n",
       "      <td>America/Indiana/Indianapolis</td>\n",
       "      <td>889737.555</td>\n",
       "      <td>IN</td>\n",
       "      <td>Midwest</td>\n",
       "    </tr>\n",
       "    <tr>\n",
       "      <th>4</th>\n",
       "      <td>SO - 0005781</td>\n",
       "      <td>2014-01-01</td>\n",
       "      <td>73</td>\n",
       "      <td>Wholesale</td>\n",
       "      <td>USD</td>\n",
       "      <td>AXW291</td>\n",
       "      <td>256</td>\n",
       "      <td>8</td>\n",
       "      <td>8</td>\n",
       "      <td>2291.4</td>\n",
       "      <td>...</td>\n",
       "      <td>959</td>\n",
       "      <td>58007</td>\n",
       "      <td>24141</td>\n",
       "      <td>63158</td>\n",
       "      <td>70972793</td>\n",
       "      <td>720300</td>\n",
       "      <td>America/New York</td>\n",
       "      <td>1085037.329</td>\n",
       "      <td>CT</td>\n",
       "      <td>Northeast</td>\n",
       "    </tr>\n",
       "  </tbody>\n",
       "</table>\n",
       "<p>5 rows × 34 columns</p>\n",
       "</div>"
      ],
      "text/plain": [
       "    OrderNumber  OrderDate  Customer Name Index      Channel Currency Code  \\\n",
       "0   SO - 000225 2014-01-01                  126    Wholesale           USD   \n",
       "1  SO - 0003378 2014-01-01                   96  Distributor           USD   \n",
       "2  SO - 0005126 2014-01-01                    8    Wholesale           USD   \n",
       "3  SO - 0005614 2014-01-01                   42       Export           USD   \n",
       "4  SO - 0005781 2014-01-01                   73    Wholesale           USD   \n",
       "\n",
       "  Warehouse Code  Delivery Region Index  Product Description Index  \\\n",
       "0         AXW291                    364                         27   \n",
       "1         AXW291                    488                         20   \n",
       "2         AXW291                    155                         26   \n",
       "3         AXW291                    473                          7   \n",
       "4         AXW291                    256                          8   \n",
       "\n",
       "   Order Quantity  Unit Price  ...  area_code  population  households  \\\n",
       "0               6      2499.1  ...        912      145674       52798   \n",
       "1              11      2351.7  ...        317       55586       20975   \n",
       "2               6       978.2  ...        925       79510       26020   \n",
       "3               7      2338.3  ...        812       84067       30232   \n",
       "4               8      2291.4  ...        959       58007       24141   \n",
       "\n",
       "  median_income  land_area water_area                     time_zone  \\\n",
       "0         36466  268318796   13908113              America/New York   \n",
       "1         54176   72276415       1883  America/Indiana/Indianapolis   \n",
       "2        124759   62489257     386195           America/Los Angeles   \n",
       "3         30019   60221613     475857  America/Indiana/Indianapolis   \n",
       "4         63158   70972793     720300              America/New York   \n",
       "\n",
       "  2017 Budgets State Code     Region  \n",
       "0   964940.231         GA      South  \n",
       "1  2067108.120         IN    Midwest  \n",
       "2  5685138.270         CA       West  \n",
       "3   889737.555         IN    Midwest  \n",
       "4  1085037.329         CT  Northeast  \n",
       "\n",
       "[5 rows x 34 columns]"
      ]
     },
     "execution_count": 25,
     "metadata": {},
     "output_type": "execute_result"
    }
   ],
   "source": [
    "df.head()"
   ]
  },
  {
   "cell_type": "code",
   "execution_count": 26,
   "id": "02be44c0",
   "metadata": {},
   "outputs": [],
   "source": [
    "df.to_csv('file.csv')"
   ]
  },
  {
   "cell_type": "markdown",
   "id": "cd797eb3",
   "metadata": {},
   "source": [
    "Clean up redundant column"
   ]
  },
  {
   "cell_type": "code",
   "execution_count": 27,
   "id": "f40c8d8b",
   "metadata": {},
   "outputs": [
    {
     "data": {
      "text/html": [
       "<div>\n",
       "<style scoped>\n",
       "    .dataframe tbody tr th:only-of-type {\n",
       "        vertical-align: middle;\n",
       "    }\n",
       "\n",
       "    .dataframe tbody tr th {\n",
       "        vertical-align: top;\n",
       "    }\n",
       "\n",
       "    .dataframe thead th {\n",
       "        text-align: right;\n",
       "    }\n",
       "</style>\n",
       "<table border=\"1\" class=\"dataframe\">\n",
       "  <thead>\n",
       "    <tr style=\"text-align: right;\">\n",
       "      <th></th>\n",
       "      <th>OrderNumber</th>\n",
       "      <th>OrderDate</th>\n",
       "      <th>Customer Name Index</th>\n",
       "      <th>Channel</th>\n",
       "      <th>Currency Code</th>\n",
       "      <th>Warehouse Code</th>\n",
       "      <th>Delivery Region Index</th>\n",
       "      <th>Product Description Index</th>\n",
       "      <th>Order Quantity</th>\n",
       "      <th>Unit Price</th>\n",
       "      <th>...</th>\n",
       "      <th>longitude</th>\n",
       "      <th>area_code</th>\n",
       "      <th>population</th>\n",
       "      <th>households</th>\n",
       "      <th>median_income</th>\n",
       "      <th>land_area</th>\n",
       "      <th>water_area</th>\n",
       "      <th>time_zone</th>\n",
       "      <th>2017 Budgets</th>\n",
       "      <th>Region</th>\n",
       "    </tr>\n",
       "  </thead>\n",
       "  <tbody>\n",
       "    <tr>\n",
       "      <th>0</th>\n",
       "      <td>SO - 000225</td>\n",
       "      <td>2014-01-01</td>\n",
       "      <td>126</td>\n",
       "      <td>Wholesale</td>\n",
       "      <td>USD</td>\n",
       "      <td>AXW291</td>\n",
       "      <td>364</td>\n",
       "      <td>27</td>\n",
       "      <td>6</td>\n",
       "      <td>2499.1</td>\n",
       "      <td>...</td>\n",
       "      <td>-81.09983</td>\n",
       "      <td>912</td>\n",
       "      <td>145674</td>\n",
       "      <td>52798</td>\n",
       "      <td>36466</td>\n",
       "      <td>268318796</td>\n",
       "      <td>13908113</td>\n",
       "      <td>America/New York</td>\n",
       "      <td>964940.231</td>\n",
       "      <td>South</td>\n",
       "    </tr>\n",
       "    <tr>\n",
       "      <th>1</th>\n",
       "      <td>SO - 0003378</td>\n",
       "      <td>2014-01-01</td>\n",
       "      <td>96</td>\n",
       "      <td>Distributor</td>\n",
       "      <td>USD</td>\n",
       "      <td>AXW291</td>\n",
       "      <td>488</td>\n",
       "      <td>20</td>\n",
       "      <td>11</td>\n",
       "      <td>2351.7</td>\n",
       "      <td>...</td>\n",
       "      <td>-86.10665</td>\n",
       "      <td>317</td>\n",
       "      <td>55586</td>\n",
       "      <td>20975</td>\n",
       "      <td>54176</td>\n",
       "      <td>72276415</td>\n",
       "      <td>1883</td>\n",
       "      <td>America/Indiana/Indianapolis</td>\n",
       "      <td>2067108.120</td>\n",
       "      <td>Midwest</td>\n",
       "    </tr>\n",
       "    <tr>\n",
       "      <th>2</th>\n",
       "      <td>SO - 0005126</td>\n",
       "      <td>2014-01-01</td>\n",
       "      <td>8</td>\n",
       "      <td>Wholesale</td>\n",
       "      <td>USD</td>\n",
       "      <td>AXW291</td>\n",
       "      <td>155</td>\n",
       "      <td>26</td>\n",
       "      <td>6</td>\n",
       "      <td>978.2</td>\n",
       "      <td>...</td>\n",
       "      <td>-121.87468</td>\n",
       "      <td>925</td>\n",
       "      <td>79510</td>\n",
       "      <td>26020</td>\n",
       "      <td>124759</td>\n",
       "      <td>62489257</td>\n",
       "      <td>386195</td>\n",
       "      <td>America/Los Angeles</td>\n",
       "      <td>5685138.270</td>\n",
       "      <td>West</td>\n",
       "    </tr>\n",
       "    <tr>\n",
       "      <th>3</th>\n",
       "      <td>SO - 0005614</td>\n",
       "      <td>2014-01-01</td>\n",
       "      <td>42</td>\n",
       "      <td>Export</td>\n",
       "      <td>USD</td>\n",
       "      <td>AXW291</td>\n",
       "      <td>473</td>\n",
       "      <td>7</td>\n",
       "      <td>7</td>\n",
       "      <td>2338.3</td>\n",
       "      <td>...</td>\n",
       "      <td>-86.52639</td>\n",
       "      <td>812</td>\n",
       "      <td>84067</td>\n",
       "      <td>30232</td>\n",
       "      <td>30019</td>\n",
       "      <td>60221613</td>\n",
       "      <td>475857</td>\n",
       "      <td>America/Indiana/Indianapolis</td>\n",
       "      <td>889737.555</td>\n",
       "      <td>Midwest</td>\n",
       "    </tr>\n",
       "    <tr>\n",
       "      <th>4</th>\n",
       "      <td>SO - 0005781</td>\n",
       "      <td>2014-01-01</td>\n",
       "      <td>73</td>\n",
       "      <td>Wholesale</td>\n",
       "      <td>USD</td>\n",
       "      <td>AXW291</td>\n",
       "      <td>256</td>\n",
       "      <td>8</td>\n",
       "      <td>8</td>\n",
       "      <td>2291.4</td>\n",
       "      <td>...</td>\n",
       "      <td>-72.52443</td>\n",
       "      <td>959</td>\n",
       "      <td>58007</td>\n",
       "      <td>24141</td>\n",
       "      <td>63158</td>\n",
       "      <td>70972793</td>\n",
       "      <td>720300</td>\n",
       "      <td>America/New York</td>\n",
       "      <td>1085037.329</td>\n",
       "      <td>Northeast</td>\n",
       "    </tr>\n",
       "  </tbody>\n",
       "</table>\n",
       "<p>5 rows × 30 columns</p>\n",
       "</div>"
      ],
      "text/plain": [
       "    OrderNumber  OrderDate  Customer Name Index      Channel Currency Code  \\\n",
       "0   SO - 000225 2014-01-01                  126    Wholesale           USD   \n",
       "1  SO - 0003378 2014-01-01                   96  Distributor           USD   \n",
       "2  SO - 0005126 2014-01-01                    8    Wholesale           USD   \n",
       "3  SO - 0005614 2014-01-01                   42       Export           USD   \n",
       "4  SO - 0005781 2014-01-01                   73    Wholesale           USD   \n",
       "\n",
       "  Warehouse Code  Delivery Region Index  Product Description Index  \\\n",
       "0         AXW291                    364                         27   \n",
       "1         AXW291                    488                         20   \n",
       "2         AXW291                    155                         26   \n",
       "3         AXW291                    473                          7   \n",
       "4         AXW291                    256                          8   \n",
       "\n",
       "   Order Quantity  Unit Price  ...  longitude  area_code population  \\\n",
       "0               6      2499.1  ...  -81.09983        912     145674   \n",
       "1              11      2351.7  ...  -86.10665        317      55586   \n",
       "2               6       978.2  ... -121.87468        925      79510   \n",
       "3               7      2338.3  ...  -86.52639        812      84067   \n",
       "4               8      2291.4  ...  -72.52443        959      58007   \n",
       "\n",
       "  households median_income  land_area water_area  \\\n",
       "0      52798         36466  268318796   13908113   \n",
       "1      20975         54176   72276415       1883   \n",
       "2      26020        124759   62489257     386195   \n",
       "3      30232         30019   60221613     475857   \n",
       "4      24141         63158   70972793     720300   \n",
       "\n",
       "                      time_zone 2017 Budgets     Region  \n",
       "0              America/New York   964940.231      South  \n",
       "1  America/Indiana/Indianapolis  2067108.120    Midwest  \n",
       "2           America/Los Angeles  5685138.270       West  \n",
       "3  America/Indiana/Indianapolis   889737.555    Midwest  \n",
       "4              America/New York  1085037.329  Northeast  \n",
       "\n",
       "[5 rows x 30 columns]"
      ]
     },
     "execution_count": 27,
     "metadata": {},
     "output_type": "execute_result"
    }
   ],
   "source": [
    "cols_to_drop = ['Customer Index', 'Index', 'id', 'State Code']\n",
    "df = df.drop(columns=cols_to_drop,errors='ignore')\n",
    "\n",
    "df.head()"
   ]
  },
  {
   "cell_type": "markdown",
   "id": "9a247049",
   "metadata": {},
   "source": [
    "Convert all columns to lower case for consistency and easier access"
   ]
  },
  {
   "cell_type": "code",
   "execution_count": 28,
   "id": "f0118c9b",
   "metadata": {},
   "outputs": [
    {
     "data": {
      "text/plain": [
       "array(['ordernumber', 'orderdate', 'customer name index', 'channel',\n",
       "       'currency code', 'warehouse code', 'delivery region index',\n",
       "       'product description index', 'order quantity', 'unit price',\n",
       "       'line total', 'total unit cost', 'customer names', 'product name',\n",
       "       'name', 'county', 'state_code', 'state', 'type', 'latitude',\n",
       "       'longitude', 'area_code', 'population', 'households',\n",
       "       'median_income', 'land_area', 'water_area', 'time_zone',\n",
       "       '2017 budgets', 'region'], dtype=object)"
      ]
     },
     "execution_count": 28,
     "metadata": {},
     "output_type": "execute_result"
    }
   ],
   "source": [
    "df.columns = df.columns.str.lower()\n",
    "df.columns.values"
   ]
  },
  {
   "cell_type": "code",
   "execution_count": 29,
   "id": "28e551c4",
   "metadata": {},
   "outputs": [
    {
     "data": {
      "text/html": [
       "<div>\n",
       "<style scoped>\n",
       "    .dataframe tbody tr th:only-of-type {\n",
       "        vertical-align: middle;\n",
       "    }\n",
       "\n",
       "    .dataframe tbody tr th {\n",
       "        vertical-align: top;\n",
       "    }\n",
       "\n",
       "    .dataframe thead th {\n",
       "        text-align: right;\n",
       "    }\n",
       "</style>\n",
       "<table border=\"1\" class=\"dataframe\">\n",
       "  <thead>\n",
       "    <tr style=\"text-align: right;\">\n",
       "      <th></th>\n",
       "      <th>ordernumber</th>\n",
       "      <th>orderdate</th>\n",
       "      <th>customer name index</th>\n",
       "      <th>channel</th>\n",
       "      <th>currency code</th>\n",
       "      <th>warehouse code</th>\n",
       "      <th>delivery region index</th>\n",
       "      <th>product description index</th>\n",
       "      <th>order quantity</th>\n",
       "      <th>unit price</th>\n",
       "      <th>...</th>\n",
       "      <th>longitude</th>\n",
       "      <th>area_code</th>\n",
       "      <th>population</th>\n",
       "      <th>households</th>\n",
       "      <th>median_income</th>\n",
       "      <th>land_area</th>\n",
       "      <th>water_area</th>\n",
       "      <th>time_zone</th>\n",
       "      <th>2017 budgets</th>\n",
       "      <th>region</th>\n",
       "    </tr>\n",
       "  </thead>\n",
       "  <tbody>\n",
       "    <tr>\n",
       "      <th>0</th>\n",
       "      <td>SO - 000225</td>\n",
       "      <td>2014-01-01</td>\n",
       "      <td>126</td>\n",
       "      <td>Wholesale</td>\n",
       "      <td>USD</td>\n",
       "      <td>AXW291</td>\n",
       "      <td>364</td>\n",
       "      <td>27</td>\n",
       "      <td>6</td>\n",
       "      <td>2499.1</td>\n",
       "      <td>...</td>\n",
       "      <td>-81.09983</td>\n",
       "      <td>912</td>\n",
       "      <td>145674</td>\n",
       "      <td>52798</td>\n",
       "      <td>36466</td>\n",
       "      <td>268318796</td>\n",
       "      <td>13908113</td>\n",
       "      <td>America/New York</td>\n",
       "      <td>964940.231</td>\n",
       "      <td>South</td>\n",
       "    </tr>\n",
       "    <tr>\n",
       "      <th>1</th>\n",
       "      <td>SO - 0003378</td>\n",
       "      <td>2014-01-01</td>\n",
       "      <td>96</td>\n",
       "      <td>Distributor</td>\n",
       "      <td>USD</td>\n",
       "      <td>AXW291</td>\n",
       "      <td>488</td>\n",
       "      <td>20</td>\n",
       "      <td>11</td>\n",
       "      <td>2351.7</td>\n",
       "      <td>...</td>\n",
       "      <td>-86.10665</td>\n",
       "      <td>317</td>\n",
       "      <td>55586</td>\n",
       "      <td>20975</td>\n",
       "      <td>54176</td>\n",
       "      <td>72276415</td>\n",
       "      <td>1883</td>\n",
       "      <td>America/Indiana/Indianapolis</td>\n",
       "      <td>2067108.120</td>\n",
       "      <td>Midwest</td>\n",
       "    </tr>\n",
       "    <tr>\n",
       "      <th>2</th>\n",
       "      <td>SO - 0005126</td>\n",
       "      <td>2014-01-01</td>\n",
       "      <td>8</td>\n",
       "      <td>Wholesale</td>\n",
       "      <td>USD</td>\n",
       "      <td>AXW291</td>\n",
       "      <td>155</td>\n",
       "      <td>26</td>\n",
       "      <td>6</td>\n",
       "      <td>978.2</td>\n",
       "      <td>...</td>\n",
       "      <td>-121.87468</td>\n",
       "      <td>925</td>\n",
       "      <td>79510</td>\n",
       "      <td>26020</td>\n",
       "      <td>124759</td>\n",
       "      <td>62489257</td>\n",
       "      <td>386195</td>\n",
       "      <td>America/Los Angeles</td>\n",
       "      <td>5685138.270</td>\n",
       "      <td>West</td>\n",
       "    </tr>\n",
       "    <tr>\n",
       "      <th>3</th>\n",
       "      <td>SO - 0005614</td>\n",
       "      <td>2014-01-01</td>\n",
       "      <td>42</td>\n",
       "      <td>Export</td>\n",
       "      <td>USD</td>\n",
       "      <td>AXW291</td>\n",
       "      <td>473</td>\n",
       "      <td>7</td>\n",
       "      <td>7</td>\n",
       "      <td>2338.3</td>\n",
       "      <td>...</td>\n",
       "      <td>-86.52639</td>\n",
       "      <td>812</td>\n",
       "      <td>84067</td>\n",
       "      <td>30232</td>\n",
       "      <td>30019</td>\n",
       "      <td>60221613</td>\n",
       "      <td>475857</td>\n",
       "      <td>America/Indiana/Indianapolis</td>\n",
       "      <td>889737.555</td>\n",
       "      <td>Midwest</td>\n",
       "    </tr>\n",
       "    <tr>\n",
       "      <th>4</th>\n",
       "      <td>SO - 0005781</td>\n",
       "      <td>2014-01-01</td>\n",
       "      <td>73</td>\n",
       "      <td>Wholesale</td>\n",
       "      <td>USD</td>\n",
       "      <td>AXW291</td>\n",
       "      <td>256</td>\n",
       "      <td>8</td>\n",
       "      <td>8</td>\n",
       "      <td>2291.4</td>\n",
       "      <td>...</td>\n",
       "      <td>-72.52443</td>\n",
       "      <td>959</td>\n",
       "      <td>58007</td>\n",
       "      <td>24141</td>\n",
       "      <td>63158</td>\n",
       "      <td>70972793</td>\n",
       "      <td>720300</td>\n",
       "      <td>America/New York</td>\n",
       "      <td>1085037.329</td>\n",
       "      <td>Northeast</td>\n",
       "    </tr>\n",
       "  </tbody>\n",
       "</table>\n",
       "<p>5 rows × 30 columns</p>\n",
       "</div>"
      ],
      "text/plain": [
       "    ordernumber  orderdate  customer name index      channel currency code  \\\n",
       "0   SO - 000225 2014-01-01                  126    Wholesale           USD   \n",
       "1  SO - 0003378 2014-01-01                   96  Distributor           USD   \n",
       "2  SO - 0005126 2014-01-01                    8    Wholesale           USD   \n",
       "3  SO - 0005614 2014-01-01                   42       Export           USD   \n",
       "4  SO - 0005781 2014-01-01                   73    Wholesale           USD   \n",
       "\n",
       "  warehouse code  delivery region index  product description index  \\\n",
       "0         AXW291                    364                         27   \n",
       "1         AXW291                    488                         20   \n",
       "2         AXW291                    155                         26   \n",
       "3         AXW291                    473                          7   \n",
       "4         AXW291                    256                          8   \n",
       "\n",
       "   order quantity  unit price  ...  longitude  area_code population  \\\n",
       "0               6      2499.1  ...  -81.09983        912     145674   \n",
       "1              11      2351.7  ...  -86.10665        317      55586   \n",
       "2               6       978.2  ... -121.87468        925      79510   \n",
       "3               7      2338.3  ...  -86.52639        812      84067   \n",
       "4               8      2291.4  ...  -72.52443        959      58007   \n",
       "\n",
       "  households median_income  land_area water_area  \\\n",
       "0      52798         36466  268318796   13908113   \n",
       "1      20975         54176   72276415       1883   \n",
       "2      26020        124759   62489257     386195   \n",
       "3      30232         30019   60221613     475857   \n",
       "4      24141         63158   70972793     720300   \n",
       "\n",
       "                      time_zone 2017 budgets     region  \n",
       "0              America/New York   964940.231      South  \n",
       "1  America/Indiana/Indianapolis  2067108.120    Midwest  \n",
       "2           America/Los Angeles  5685138.270       West  \n",
       "3  America/Indiana/Indianapolis   889737.555    Midwest  \n",
       "4              America/New York  1085037.329  Northeast  \n",
       "\n",
       "[5 rows x 30 columns]"
      ]
     },
     "execution_count": 29,
     "metadata": {},
     "output_type": "execute_result"
    }
   ],
   "source": [
    "df.head()"
   ]
  },
  {
   "cell_type": "markdown",
   "id": "b8d080e7",
   "metadata": {},
   "source": [
    "Keep the important columns and delete the columns that we don't need "
   ]
  },
  {
   "cell_type": "code",
   "execution_count": 30,
   "id": "0f932fa2",
   "metadata": {},
   "outputs": [],
   "source": [
    "cols_to_keep = ['ordernumber', 'orderdate', 'customer names', 'channel','product name',\n",
    "                'order quantity', 'unit price', 'line total','total unit cost','state_code',\n",
    "                'county', 'state', 'region','latitude', 'longitude', '2017 budgets'] "
   ]
  },
  {
   "cell_type": "code",
   "execution_count": 31,
   "id": "2f48002d",
   "metadata": {},
   "outputs": [],
   "source": [
    "df = df[cols_to_keep]"
   ]
  },
  {
   "cell_type": "code",
   "execution_count": 32,
   "id": "e22f76fe",
   "metadata": {},
   "outputs": [
    {
     "data": {
      "text/html": [
       "<div>\n",
       "<style scoped>\n",
       "    .dataframe tbody tr th:only-of-type {\n",
       "        vertical-align: middle;\n",
       "    }\n",
       "\n",
       "    .dataframe tbody tr th {\n",
       "        vertical-align: top;\n",
       "    }\n",
       "\n",
       "    .dataframe thead th {\n",
       "        text-align: right;\n",
       "    }\n",
       "</style>\n",
       "<table border=\"1\" class=\"dataframe\">\n",
       "  <thead>\n",
       "    <tr style=\"text-align: right;\">\n",
       "      <th></th>\n",
       "      <th>ordernumber</th>\n",
       "      <th>orderdate</th>\n",
       "      <th>customer names</th>\n",
       "      <th>channel</th>\n",
       "      <th>product name</th>\n",
       "      <th>order quantity</th>\n",
       "      <th>unit price</th>\n",
       "      <th>line total</th>\n",
       "      <th>total unit cost</th>\n",
       "      <th>state_code</th>\n",
       "      <th>county</th>\n",
       "      <th>state</th>\n",
       "      <th>region</th>\n",
       "      <th>latitude</th>\n",
       "      <th>longitude</th>\n",
       "      <th>2017 budgets</th>\n",
       "    </tr>\n",
       "  </thead>\n",
       "  <tbody>\n",
       "    <tr>\n",
       "      <th>0</th>\n",
       "      <td>SO - 000225</td>\n",
       "      <td>2014-01-01</td>\n",
       "      <td>Rhynoodle Ltd</td>\n",
       "      <td>Wholesale</td>\n",
       "      <td>Product 27</td>\n",
       "      <td>6</td>\n",
       "      <td>2499.1</td>\n",
       "      <td>14994.6</td>\n",
       "      <td>1824.343</td>\n",
       "      <td>GA</td>\n",
       "      <td>Chatham County</td>\n",
       "      <td>Georgia</td>\n",
       "      <td>South</td>\n",
       "      <td>32.08354</td>\n",
       "      <td>-81.09983</td>\n",
       "      <td>964940.231</td>\n",
       "    </tr>\n",
       "    <tr>\n",
       "      <th>1</th>\n",
       "      <td>SO - 0003378</td>\n",
       "      <td>2014-01-01</td>\n",
       "      <td>Thoughtmix Ltd</td>\n",
       "      <td>Distributor</td>\n",
       "      <td>Product 20</td>\n",
       "      <td>11</td>\n",
       "      <td>2351.7</td>\n",
       "      <td>25868.7</td>\n",
       "      <td>1269.918</td>\n",
       "      <td>IN</td>\n",
       "      <td>Johnson County</td>\n",
       "      <td>Indiana</td>\n",
       "      <td>Midwest</td>\n",
       "      <td>39.61366</td>\n",
       "      <td>-86.10665</td>\n",
       "      <td>2067108.120</td>\n",
       "    </tr>\n",
       "    <tr>\n",
       "      <th>2</th>\n",
       "      <td>SO - 0005126</td>\n",
       "      <td>2014-01-01</td>\n",
       "      <td>Amerisourc Corp</td>\n",
       "      <td>Wholesale</td>\n",
       "      <td>Product 26</td>\n",
       "      <td>6</td>\n",
       "      <td>978.2</td>\n",
       "      <td>5869.2</td>\n",
       "      <td>684.740</td>\n",
       "      <td>CA</td>\n",
       "      <td>Alameda County</td>\n",
       "      <td>California</td>\n",
       "      <td>West</td>\n",
       "      <td>37.66243</td>\n",
       "      <td>-121.87468</td>\n",
       "      <td>5685138.270</td>\n",
       "    </tr>\n",
       "    <tr>\n",
       "      <th>3</th>\n",
       "      <td>SO - 0005614</td>\n",
       "      <td>2014-01-01</td>\n",
       "      <td>Colgate-Pa Group</td>\n",
       "      <td>Export</td>\n",
       "      <td>Product 7</td>\n",
       "      <td>7</td>\n",
       "      <td>2338.3</td>\n",
       "      <td>16368.1</td>\n",
       "      <td>1028.852</td>\n",
       "      <td>IN</td>\n",
       "      <td>Monroe County</td>\n",
       "      <td>Indiana</td>\n",
       "      <td>Midwest</td>\n",
       "      <td>39.16533</td>\n",
       "      <td>-86.52639</td>\n",
       "      <td>889737.555</td>\n",
       "    </tr>\n",
       "    <tr>\n",
       "      <th>4</th>\n",
       "      <td>SO - 0005781</td>\n",
       "      <td>2014-01-01</td>\n",
       "      <td>Deseret Group</td>\n",
       "      <td>Wholesale</td>\n",
       "      <td>Product 8</td>\n",
       "      <td>8</td>\n",
       "      <td>2291.4</td>\n",
       "      <td>18331.2</td>\n",
       "      <td>1260.270</td>\n",
       "      <td>CT</td>\n",
       "      <td>Hartford County</td>\n",
       "      <td>Connecticut</td>\n",
       "      <td>Northeast</td>\n",
       "      <td>41.77524</td>\n",
       "      <td>-72.52443</td>\n",
       "      <td>1085037.329</td>\n",
       "    </tr>\n",
       "  </tbody>\n",
       "</table>\n",
       "</div>"
      ],
      "text/plain": [
       "    ordernumber  orderdate    customer names      channel product name  \\\n",
       "0   SO - 000225 2014-01-01     Rhynoodle Ltd    Wholesale   Product 27   \n",
       "1  SO - 0003378 2014-01-01    Thoughtmix Ltd  Distributor   Product 20   \n",
       "2  SO - 0005126 2014-01-01   Amerisourc Corp    Wholesale   Product 26   \n",
       "3  SO - 0005614 2014-01-01  Colgate-Pa Group       Export    Product 7   \n",
       "4  SO - 0005781 2014-01-01     Deseret Group    Wholesale    Product 8   \n",
       "\n",
       "   order quantity  unit price  line total  total unit cost state_code  \\\n",
       "0               6      2499.1     14994.6         1824.343         GA   \n",
       "1              11      2351.7     25868.7         1269.918         IN   \n",
       "2               6       978.2      5869.2          684.740         CA   \n",
       "3               7      2338.3     16368.1         1028.852         IN   \n",
       "4               8      2291.4     18331.2         1260.270         CT   \n",
       "\n",
       "            county        state     region  latitude  longitude  2017 budgets  \n",
       "0   Chatham County      Georgia      South  32.08354  -81.09983    964940.231  \n",
       "1   Johnson County      Indiana    Midwest  39.61366  -86.10665   2067108.120  \n",
       "2   Alameda County   California       West  37.66243 -121.87468   5685138.270  \n",
       "3    Monroe County      Indiana    Midwest  39.16533  -86.52639    889737.555  \n",
       "4  Hartford County  Connecticut  Northeast  41.77524  -72.52443   1085037.329  "
      ]
     },
     "execution_count": 32,
     "metadata": {},
     "output_type": "execute_result"
    }
   ],
   "source": [
    "df.head()"
   ]
  },
  {
   "cell_type": "markdown",
   "id": "aab67a88",
   "metadata": {},
   "source": [
    "Blank out budgets for non-2017 budgets"
   ]
  },
  {
   "cell_type": "code",
   "execution_count": 33,
   "id": "d57c2413",
   "metadata": {},
   "outputs": [],
   "source": [
    "df.loc[df['orderdate'].dt.year != 2017, '2017 budgets'] = pd.NA"
   ]
  },
  {
   "cell_type": "code",
   "execution_count": 34,
   "id": "994b36d8",
   "metadata": {},
   "outputs": [
    {
     "data": {
      "text/html": [
       "<div>\n",
       "<style scoped>\n",
       "    .dataframe tbody tr th:only-of-type {\n",
       "        vertical-align: middle;\n",
       "    }\n",
       "\n",
       "    .dataframe tbody tr th {\n",
       "        vertical-align: top;\n",
       "    }\n",
       "\n",
       "    .dataframe thead th {\n",
       "        text-align: right;\n",
       "    }\n",
       "</style>\n",
       "<table border=\"1\" class=\"dataframe\">\n",
       "  <thead>\n",
       "    <tr style=\"text-align: right;\">\n",
       "      <th></th>\n",
       "      <th>orderdate</th>\n",
       "      <th>product name</th>\n",
       "      <th>line total</th>\n",
       "      <th>2017 budgets</th>\n",
       "    </tr>\n",
       "  </thead>\n",
       "  <tbody>\n",
       "    <tr>\n",
       "      <th>0</th>\n",
       "      <td>2014-01-01</td>\n",
       "      <td>Product 27</td>\n",
       "      <td>14994.6</td>\n",
       "      <td>NaN</td>\n",
       "    </tr>\n",
       "    <tr>\n",
       "      <th>1</th>\n",
       "      <td>2014-01-01</td>\n",
       "      <td>Product 20</td>\n",
       "      <td>25868.7</td>\n",
       "      <td>NaN</td>\n",
       "    </tr>\n",
       "    <tr>\n",
       "      <th>2</th>\n",
       "      <td>2014-01-01</td>\n",
       "      <td>Product 26</td>\n",
       "      <td>5869.2</td>\n",
       "      <td>NaN</td>\n",
       "    </tr>\n",
       "    <tr>\n",
       "      <th>3</th>\n",
       "      <td>2014-01-01</td>\n",
       "      <td>Product 7</td>\n",
       "      <td>16368.1</td>\n",
       "      <td>NaN</td>\n",
       "    </tr>\n",
       "    <tr>\n",
       "      <th>4</th>\n",
       "      <td>2014-01-01</td>\n",
       "      <td>Product 8</td>\n",
       "      <td>18331.2</td>\n",
       "      <td>NaN</td>\n",
       "    </tr>\n",
       "  </tbody>\n",
       "</table>\n",
       "</div>"
      ],
      "text/plain": [
       "   orderdate product name  line total  2017 budgets\n",
       "0 2014-01-01   Product 27     14994.6           NaN\n",
       "1 2014-01-01   Product 20     25868.7           NaN\n",
       "2 2014-01-01   Product 26      5869.2           NaN\n",
       "3 2014-01-01    Product 7     16368.1           NaN\n",
       "4 2014-01-01    Product 8     18331.2           NaN"
      ]
     },
     "execution_count": 34,
     "metadata": {},
     "output_type": "execute_result"
    }
   ],
   "source": [
    "df[['orderdate','product name','line total','2017 budgets']].head()"
   ]
  },
  {
   "cell_type": "code",
   "execution_count": 35,
   "id": "2df15ac7",
   "metadata": {},
   "outputs": [],
   "source": [
    "df.to_csv('final.csv')"
   ]
  },
  {
   "cell_type": "code",
   "execution_count": 36,
   "id": "04169604",
   "metadata": {},
   "outputs": [
    {
     "name": "stdout",
     "output_type": "stream",
     "text": [
      "<class 'pandas.core.frame.DataFrame'>\n",
      "RangeIndex: 64104 entries, 0 to 64103\n",
      "Data columns (total 16 columns):\n",
      " #   Column           Non-Null Count  Dtype         \n",
      "---  ------           --------------  -----         \n",
      " 0   ordernumber      64104 non-null  object        \n",
      " 1   orderdate        64104 non-null  datetime64[ns]\n",
      " 2   customer names   64104 non-null  object        \n",
      " 3   channel          64104 non-null  object        \n",
      " 4   product name     64104 non-null  object        \n",
      " 5   order quantity   64104 non-null  int64         \n",
      " 6   unit price       64104 non-null  float64       \n",
      " 7   line total       64104 non-null  float64       \n",
      " 8   total unit cost  64104 non-null  float64       \n",
      " 9   state_code       64104 non-null  object        \n",
      " 10  county           64104 non-null  object        \n",
      " 11  state            64104 non-null  object        \n",
      " 12  region           64104 non-null  object        \n",
      " 13  latitude         64104 non-null  float64       \n",
      " 14  longitude        64104 non-null  float64       \n",
      " 15  2017 budgets     15263 non-null  float64       \n",
      "dtypes: datetime64[ns](1), float64(6), int64(1), object(8)\n",
      "memory usage: 7.8+ MB\n"
     ]
    }
   ],
   "source": [
    " df.info()"
   ]
  },
  {
   "cell_type": "markdown",
   "id": "c309940f",
   "metadata": {},
   "source": [
    "Filter the dataset to include only records from year 2017"
   ]
  },
  {
   "cell_type": "code",
   "execution_count": 37,
   "id": "2a4925fc",
   "metadata": {},
   "outputs": [],
   "source": [
    "df_2017 = df[df['orderdate'].dt.year == 2017]"
   ]
  },
  {
   "cell_type": "code",
   "execution_count": 38,
   "id": "c2418073",
   "metadata": {},
   "outputs": [
    {
     "data": {
      "text/plain": [
       "ordernumber            0\n",
       "orderdate              0\n",
       "customer names         0\n",
       "channel                0\n",
       "product name           0\n",
       "order quantity         0\n",
       "unit price             0\n",
       "line total             0\n",
       "total unit cost        0\n",
       "state_code             0\n",
       "county                 0\n",
       "state                  0\n",
       "region                 0\n",
       "latitude               0\n",
       "longitude              0\n",
       "2017 budgets       48841\n",
       "dtype: int64"
      ]
     },
     "execution_count": 38,
     "metadata": {},
     "output_type": "execute_result"
    }
   ],
   "source": [
    "df.isnull().sum()"
   ]
  },
  {
   "cell_type": "code",
   "execution_count": 39,
   "id": "32772806",
   "metadata": {},
   "outputs": [
    {
     "data": {
      "text/html": [
       "<div>\n",
       "<style scoped>\n",
       "    .dataframe tbody tr th:only-of-type {\n",
       "        vertical-align: middle;\n",
       "    }\n",
       "\n",
       "    .dataframe tbody tr th {\n",
       "        vertical-align: top;\n",
       "    }\n",
       "\n",
       "    .dataframe thead th {\n",
       "        text-align: right;\n",
       "    }\n",
       "</style>\n",
       "<table border=\"1\" class=\"dataframe\">\n",
       "  <thead>\n",
       "    <tr style=\"text-align: right;\">\n",
       "      <th></th>\n",
       "      <th>ordernumber</th>\n",
       "      <th>orderdate</th>\n",
       "      <th>customer names</th>\n",
       "      <th>channel</th>\n",
       "      <th>product name</th>\n",
       "      <th>order quantity</th>\n",
       "      <th>unit price</th>\n",
       "      <th>line total</th>\n",
       "      <th>total unit cost</th>\n",
       "      <th>state_code</th>\n",
       "      <th>county</th>\n",
       "      <th>state</th>\n",
       "      <th>region</th>\n",
       "      <th>latitude</th>\n",
       "      <th>longitude</th>\n",
       "      <th>2017 budgets</th>\n",
       "    </tr>\n",
       "  </thead>\n",
       "  <tbody>\n",
       "    <tr>\n",
       "      <th>46363</th>\n",
       "      <td>SO - 0002544</td>\n",
       "      <td>2017-01-01</td>\n",
       "      <td>NCS Group</td>\n",
       "      <td>Wholesale</td>\n",
       "      <td>Product 30</td>\n",
       "      <td>6</td>\n",
       "      <td>1239.5</td>\n",
       "      <td>7437.0</td>\n",
       "      <td>1028.785</td>\n",
       "      <td>NJ</td>\n",
       "      <td>Hudson County</td>\n",
       "      <td>New Jersey</td>\n",
       "      <td>Northeast</td>\n",
       "      <td>40.77955</td>\n",
       "      <td>-74.02375</td>\n",
       "      <td>1011609.684</td>\n",
       "    </tr>\n",
       "    <tr>\n",
       "      <th>46364</th>\n",
       "      <td>SO - 0006431</td>\n",
       "      <td>2017-01-01</td>\n",
       "      <td>Epic Group</td>\n",
       "      <td>Wholesale</td>\n",
       "      <td>Product 13</td>\n",
       "      <td>5</td>\n",
       "      <td>1829.1</td>\n",
       "      <td>9145.5</td>\n",
       "      <td>1207.206</td>\n",
       "      <td>CO</td>\n",
       "      <td>Mesa County</td>\n",
       "      <td>Colorado</td>\n",
       "      <td>West</td>\n",
       "      <td>39.06387</td>\n",
       "      <td>-108.55065</td>\n",
       "      <td>3720639.645</td>\n",
       "    </tr>\n",
       "    <tr>\n",
       "      <th>46365</th>\n",
       "      <td>SO - 0007491</td>\n",
       "      <td>2017-01-01</td>\n",
       "      <td>State Ltd</td>\n",
       "      <td>Wholesale</td>\n",
       "      <td>Product 15</td>\n",
       "      <td>9</td>\n",
       "      <td>2412.0</td>\n",
       "      <td>21708.0</td>\n",
       "      <td>1664.280</td>\n",
       "      <td>CA</td>\n",
       "      <td>Los Angeles County</td>\n",
       "      <td>California</td>\n",
       "      <td>West</td>\n",
       "      <td>33.96168</td>\n",
       "      <td>-118.35313</td>\n",
       "      <td>3299478.315</td>\n",
       "    </tr>\n",
       "    <tr>\n",
       "      <th>46366</th>\n",
       "      <td>SO - 0008741</td>\n",
       "      <td>2017-01-01</td>\n",
       "      <td>Fivebridge Ltd</td>\n",
       "      <td>Wholesale</td>\n",
       "      <td>Product 8</td>\n",
       "      <td>8</td>\n",
       "      <td>904.5</td>\n",
       "      <td>7236.0</td>\n",
       "      <td>750.735</td>\n",
       "      <td>IA</td>\n",
       "      <td>Dubuque County</td>\n",
       "      <td>Iowa</td>\n",
       "      <td>Midwest</td>\n",
       "      <td>42.50056</td>\n",
       "      <td>-90.66457</td>\n",
       "      <td>1085037.329</td>\n",
       "    </tr>\n",
       "    <tr>\n",
       "      <th>46367</th>\n",
       "      <td>SO - 0009295</td>\n",
       "      <td>2017-01-01</td>\n",
       "      <td>Tagfeed Ltd</td>\n",
       "      <td>Wholesale</td>\n",
       "      <td>Product 2</td>\n",
       "      <td>12</td>\n",
       "      <td>1112.2</td>\n",
       "      <td>13346.4</td>\n",
       "      <td>811.906</td>\n",
       "      <td>FL</td>\n",
       "      <td>Hernando County</td>\n",
       "      <td>Florida</td>\n",
       "      <td>South</td>\n",
       "      <td>28.47689</td>\n",
       "      <td>-82.52546</td>\n",
       "      <td>3050087.565</td>\n",
       "    </tr>\n",
       "  </tbody>\n",
       "</table>\n",
       "</div>"
      ],
      "text/plain": [
       "        ordernumber  orderdate  customer names    channel product name  \\\n",
       "46363  SO - 0002544 2017-01-01       NCS Group  Wholesale   Product 30   \n",
       "46364  SO - 0006431 2017-01-01      Epic Group  Wholesale   Product 13   \n",
       "46365  SO - 0007491 2017-01-01       State Ltd  Wholesale   Product 15   \n",
       "46366  SO - 0008741 2017-01-01  Fivebridge Ltd  Wholesale    Product 8   \n",
       "46367  SO - 0009295 2017-01-01     Tagfeed Ltd  Wholesale    Product 2   \n",
       "\n",
       "       order quantity  unit price  line total  total unit cost state_code  \\\n",
       "46363               6      1239.5      7437.0         1028.785         NJ   \n",
       "46364               5      1829.1      9145.5         1207.206         CO   \n",
       "46365               9      2412.0     21708.0         1664.280         CA   \n",
       "46366               8       904.5      7236.0          750.735         IA   \n",
       "46367              12      1112.2     13346.4          811.906         FL   \n",
       "\n",
       "                   county       state     region  latitude  longitude  \\\n",
       "46363       Hudson County  New Jersey  Northeast  40.77955  -74.02375   \n",
       "46364         Mesa County    Colorado       West  39.06387 -108.55065   \n",
       "46365  Los Angeles County  California       West  33.96168 -118.35313   \n",
       "46366      Dubuque County        Iowa    Midwest  42.50056  -90.66457   \n",
       "46367     Hernando County     Florida      South  28.47689  -82.52546   \n",
       "\n",
       "       2017 budgets  \n",
       "46363   1011609.684  \n",
       "46364   3720639.645  \n",
       "46365   3299478.315  \n",
       "46366   1085037.329  \n",
       "46367   3050087.565  "
      ]
     },
     "execution_count": 39,
     "metadata": {},
     "output_type": "execute_result"
    }
   ],
   "source": [
    "df_2017.head()"
   ]
  },
  {
   "cell_type": "markdown",
   "id": "d2c67207",
   "metadata": {},
   "source": [
    "Feature Engineering"
   ]
  },
  {
   "cell_type": "code",
   "execution_count": 40,
   "id": "8ba66f8a",
   "metadata": {},
   "outputs": [],
   "source": [
    "df.loc[:, 'total cost'] = df['order quantity'] * df['total unit cost']\n"
   ]
  },
  {
   "cell_type": "code",
   "execution_count": 41,
   "id": "01c1b173",
   "metadata": {},
   "outputs": [],
   "source": [
    "df.loc[:, 'profit'] = df['line total'] - df['total cost']\n"
   ]
  },
  {
   "cell_type": "code",
   "execution_count": 42,
   "id": "c5312266",
   "metadata": {},
   "outputs": [],
   "source": [
    "df.loc[:, 'profit margin'] = df['profit'] / df['line total'] * 100"
   ]
  },
  {
   "cell_type": "code",
   "execution_count": 43,
   "id": "53846aa8",
   "metadata": {},
   "outputs": [],
   "source": [
    "# 4. Extract full month name from order_date for labeling (e.g., 'January', 'February')\n",
    "df.loc[:, 'order_month_name'] = df['orderdate'].dt.month_name()\n",
    "\n"
   ]
  },
  {
   "cell_type": "code",
   "execution_count": 44,
   "id": "52f69e26",
   "metadata": {},
   "outputs": [],
   "source": [
    "# 5. Extract month number from order_date for correct sorting (1–12)\n",
    "df.loc[:, 'order_month_num'] = df['orderdate'].dt.month"
   ]
  },
  {
   "cell_type": "code",
   "execution_count": 45,
   "id": "8157965d",
   "metadata": {},
   "outputs": [
    {
     "data": {
      "text/html": [
       "<div>\n",
       "<style scoped>\n",
       "    .dataframe tbody tr th:only-of-type {\n",
       "        vertical-align: middle;\n",
       "    }\n",
       "\n",
       "    .dataframe tbody tr th {\n",
       "        vertical-align: top;\n",
       "    }\n",
       "\n",
       "    .dataframe thead th {\n",
       "        text-align: right;\n",
       "    }\n",
       "</style>\n",
       "<table border=\"1\" class=\"dataframe\">\n",
       "  <thead>\n",
       "    <tr style=\"text-align: right;\">\n",
       "      <th></th>\n",
       "      <th>ordernumber</th>\n",
       "      <th>orderdate</th>\n",
       "      <th>customer names</th>\n",
       "      <th>channel</th>\n",
       "      <th>product name</th>\n",
       "      <th>order quantity</th>\n",
       "      <th>unit price</th>\n",
       "      <th>line total</th>\n",
       "      <th>total unit cost</th>\n",
       "      <th>state_code</th>\n",
       "      <th>...</th>\n",
       "      <th>state</th>\n",
       "      <th>region</th>\n",
       "      <th>latitude</th>\n",
       "      <th>longitude</th>\n",
       "      <th>2017 budgets</th>\n",
       "      <th>total cost</th>\n",
       "      <th>profit</th>\n",
       "      <th>profit margin</th>\n",
       "      <th>order_month_name</th>\n",
       "      <th>order_month_num</th>\n",
       "    </tr>\n",
       "  </thead>\n",
       "  <tbody>\n",
       "    <tr>\n",
       "      <th>0</th>\n",
       "      <td>SO - 000225</td>\n",
       "      <td>2014-01-01</td>\n",
       "      <td>Rhynoodle Ltd</td>\n",
       "      <td>Wholesale</td>\n",
       "      <td>Product 27</td>\n",
       "      <td>6</td>\n",
       "      <td>2499.1</td>\n",
       "      <td>14994.6</td>\n",
       "      <td>1824.343</td>\n",
       "      <td>GA</td>\n",
       "      <td>...</td>\n",
       "      <td>Georgia</td>\n",
       "      <td>South</td>\n",
       "      <td>32.08354</td>\n",
       "      <td>-81.09983</td>\n",
       "      <td>NaN</td>\n",
       "      <td>10946.058</td>\n",
       "      <td>4048.542</td>\n",
       "      <td>27.0</td>\n",
       "      <td>January</td>\n",
       "      <td>1</td>\n",
       "    </tr>\n",
       "    <tr>\n",
       "      <th>1</th>\n",
       "      <td>SO - 0003378</td>\n",
       "      <td>2014-01-01</td>\n",
       "      <td>Thoughtmix Ltd</td>\n",
       "      <td>Distributor</td>\n",
       "      <td>Product 20</td>\n",
       "      <td>11</td>\n",
       "      <td>2351.7</td>\n",
       "      <td>25868.7</td>\n",
       "      <td>1269.918</td>\n",
       "      <td>IN</td>\n",
       "      <td>...</td>\n",
       "      <td>Indiana</td>\n",
       "      <td>Midwest</td>\n",
       "      <td>39.61366</td>\n",
       "      <td>-86.10665</td>\n",
       "      <td>NaN</td>\n",
       "      <td>13969.098</td>\n",
       "      <td>11899.602</td>\n",
       "      <td>46.0</td>\n",
       "      <td>January</td>\n",
       "      <td>1</td>\n",
       "    </tr>\n",
       "    <tr>\n",
       "      <th>2</th>\n",
       "      <td>SO - 0005126</td>\n",
       "      <td>2014-01-01</td>\n",
       "      <td>Amerisourc Corp</td>\n",
       "      <td>Wholesale</td>\n",
       "      <td>Product 26</td>\n",
       "      <td>6</td>\n",
       "      <td>978.2</td>\n",
       "      <td>5869.2</td>\n",
       "      <td>684.740</td>\n",
       "      <td>CA</td>\n",
       "      <td>...</td>\n",
       "      <td>California</td>\n",
       "      <td>West</td>\n",
       "      <td>37.66243</td>\n",
       "      <td>-121.87468</td>\n",
       "      <td>NaN</td>\n",
       "      <td>4108.440</td>\n",
       "      <td>1760.760</td>\n",
       "      <td>30.0</td>\n",
       "      <td>January</td>\n",
       "      <td>1</td>\n",
       "    </tr>\n",
       "    <tr>\n",
       "      <th>3</th>\n",
       "      <td>SO - 0005614</td>\n",
       "      <td>2014-01-01</td>\n",
       "      <td>Colgate-Pa Group</td>\n",
       "      <td>Export</td>\n",
       "      <td>Product 7</td>\n",
       "      <td>7</td>\n",
       "      <td>2338.3</td>\n",
       "      <td>16368.1</td>\n",
       "      <td>1028.852</td>\n",
       "      <td>IN</td>\n",
       "      <td>...</td>\n",
       "      <td>Indiana</td>\n",
       "      <td>Midwest</td>\n",
       "      <td>39.16533</td>\n",
       "      <td>-86.52639</td>\n",
       "      <td>NaN</td>\n",
       "      <td>7201.964</td>\n",
       "      <td>9166.136</td>\n",
       "      <td>56.0</td>\n",
       "      <td>January</td>\n",
       "      <td>1</td>\n",
       "    </tr>\n",
       "    <tr>\n",
       "      <th>4</th>\n",
       "      <td>SO - 0005781</td>\n",
       "      <td>2014-01-01</td>\n",
       "      <td>Deseret Group</td>\n",
       "      <td>Wholesale</td>\n",
       "      <td>Product 8</td>\n",
       "      <td>8</td>\n",
       "      <td>2291.4</td>\n",
       "      <td>18331.2</td>\n",
       "      <td>1260.270</td>\n",
       "      <td>CT</td>\n",
       "      <td>...</td>\n",
       "      <td>Connecticut</td>\n",
       "      <td>Northeast</td>\n",
       "      <td>41.77524</td>\n",
       "      <td>-72.52443</td>\n",
       "      <td>NaN</td>\n",
       "      <td>10082.160</td>\n",
       "      <td>8249.040</td>\n",
       "      <td>45.0</td>\n",
       "      <td>January</td>\n",
       "      <td>1</td>\n",
       "    </tr>\n",
       "  </tbody>\n",
       "</table>\n",
       "<p>5 rows × 21 columns</p>\n",
       "</div>"
      ],
      "text/plain": [
       "    ordernumber  orderdate    customer names      channel product name  \\\n",
       "0   SO - 000225 2014-01-01     Rhynoodle Ltd    Wholesale   Product 27   \n",
       "1  SO - 0003378 2014-01-01    Thoughtmix Ltd  Distributor   Product 20   \n",
       "2  SO - 0005126 2014-01-01   Amerisourc Corp    Wholesale   Product 26   \n",
       "3  SO - 0005614 2014-01-01  Colgate-Pa Group       Export    Product 7   \n",
       "4  SO - 0005781 2014-01-01     Deseret Group    Wholesale    Product 8   \n",
       "\n",
       "   order quantity  unit price  line total  total unit cost state_code  ...  \\\n",
       "0               6      2499.1     14994.6         1824.343         GA  ...   \n",
       "1              11      2351.7     25868.7         1269.918         IN  ...   \n",
       "2               6       978.2      5869.2          684.740         CA  ...   \n",
       "3               7      2338.3     16368.1         1028.852         IN  ...   \n",
       "4               8      2291.4     18331.2         1260.270         CT  ...   \n",
       "\n",
       "         state     region  latitude  longitude  2017 budgets  total cost  \\\n",
       "0      Georgia      South  32.08354  -81.09983           NaN   10946.058   \n",
       "1      Indiana    Midwest  39.61366  -86.10665           NaN   13969.098   \n",
       "2   California       West  37.66243 -121.87468           NaN    4108.440   \n",
       "3      Indiana    Midwest  39.16533  -86.52639           NaN    7201.964   \n",
       "4  Connecticut  Northeast  41.77524  -72.52443           NaN   10082.160   \n",
       "\n",
       "      profit  profit margin  order_month_name order_month_num  \n",
       "0   4048.542           27.0           January               1  \n",
       "1  11899.602           46.0           January               1  \n",
       "2   1760.760           30.0           January               1  \n",
       "3   9166.136           56.0           January               1  \n",
       "4   8249.040           45.0           January               1  \n",
       "\n",
       "[5 rows x 21 columns]"
      ]
     },
     "execution_count": 45,
     "metadata": {},
     "output_type": "execute_result"
    }
   ],
   "source": [
    "df.head()"
   ]
  },
  {
   "cell_type": "markdown",
   "id": "87506b77",
   "metadata": {},
   "source": [
    "**Exploratory Data Analysis**"
   ]
  },
  {
   "cell_type": "markdown",
   "id": "340e3427",
   "metadata": {},
   "source": [
    "-------------------------------------------------------------------------------------------------------------------------------------------------------"
   ]
  },
  {
   "cell_type": "markdown",
   "id": "194d5dbf",
   "metadata": {},
   "source": [
    "🔹 1. Monthly Sales Trend Over Time\n",
    "\n",
    "Goal: Track revenue trends over time to detect seasonality or sales spikes\n",
    "\n",
    "Chart: Line chart\n",
    "\n",
    "EDA Type: Temporal (time series)\n",
    "\n",
    "Structure: Line with markers to highlight monthly revenue points clearly"
   ]
  },
  {
   "cell_type": "code",
   "execution_count": 46,
   "id": "71364953",
   "metadata": {},
   "outputs": [
    {
     "data": {
      "image/png": "[encoded data removed]",
      "text/plain": [
       "<Figure size 1200x600 with 1 Axes>"
      ]
     },
     "metadata": {},
     "output_type": "display_data"
    }
   ],
   "source": [
    "df['ordermonth'] = df['orderdate'].dt.to_period('M')\n",
    "monthly_sales = df.groupby('ordermonth')['line total'].sum()\n",
    "\n",
    "plt.figure(figsize=(12,6))\n",
    "monthly_sales.plot(marker='o', color='orange')\n",
    "\n",
    "from matplotlib.ticker import FuncFormatter\n",
    "formatter = FuncFormatter(lambda x, pos: f'{x/1e6:.1f}M')\n",
    "plt.gca().yaxis.set_major_formatter(formatter)\n",
    "\n",
    "plt.title('Monthly Sales Trend')\n",
    "plt.xlabel('Month')\n",
    "plt.ylabel('Total revenue (millions)')\n",
    "plt.xticks(rotation=45)\n",
    "plt.tight_layout()\n",
    "plt.show()\n"
   ]
  },
  {
   "cell_type": "markdown",
   "id": "302cd4f9",
   "metadata": {},
   "source": [
    "INSIGHTS ---\n",
    "Sales consistently cycle between 24M and\n",
    "26 M, with clear peaks in late spring to early summer (May–June) and troughs each January.\n",
    "\n",
    "The overall trend remains stable year over year, reflecting a reliable seasonal demand pattern.\n",
    "\n",
    "However, the sharp revenue drop in early 2017 stands out as an outlier, warranting closer investigation into potential causes such as market disruptions or mistimed promotions."
   ]
  },
  {
   "cell_type": "markdown",
   "id": "de9dacf3",
   "metadata": {},
   "source": [
    "------------------------------------------------------------------------------------------------------------------------------------------------------------"
   ]
  },
  {
   "cell_type": "markdown",
   "id": "b4e926ba",
   "metadata": {},
   "source": [
    "🔹 2. Monthly Sales Trend (All Years Combined)\n",
    "\n",
    "Goal: Highlight overall seasonality patterns by aggregating sales across all years for each calendar month\n",
    "\n",
    "Chart: Line chart\n",
    "\n",
    "EDA Type: Temporal (time series)\n",
    "\n",
    "Structure: Line with markers, months ordered January to December based on month number"
   ]
  },
  {
   "cell_type": "code",
   "execution_count": 47,
   "id": "de0470bc",
   "metadata": {},
   "outputs": [
    {
     "data": {
      "image/png": "[encoded data removed]",
      "text/plain": [
       "<Figure size 1300x400 with 1 Axes>"
      ]
     },
     "metadata": {},
     "output_type": "display_data"
    }
   ],
   "source": [
    "# 1. Filter out any 2018 orders\n",
    "df_ = df[df['orderdate'].dt.year != 2018]   # exclude any partial-year data (i.e., January and February of 2018) so that the monthly totals aren’t skewed by an incomplete year.\n",
    "                                            #I create df_ so I don’t alter the original df, preserving it intact for other analyses while filtering just for this chart.\n",
    "\n",
    "\n",
    "# 2. Group by month number and month name, sum revenue, then sort by month number\n",
    "monthly_sales = (\n",
    "    df_\n",
    "    .groupby(['order_month_num', 'order_month_name'])['line total']\n",
    "    .sum()\n",
    "    .sort_index()\n",
    ")\n",
    "\n",
    "# 3. Plot setup\n",
    "from matplotlib.ticker import FuncFormatter\n",
    "\n",
    "plt.figure(figsize=(13, 4))\n",
    "plt.plot(\n",
    "    monthly_sales.index.get_level_values(1),  # X-axis: month names\n",
    "    monthly_sales.values,                     # Y-axis: total revenue\n",
    "    marker='o',                                # circle markers\n",
    "    color='orange'                               # line color\n",
    ")\n",
    "\n",
    "# 4. Scale y-axis values to millions for readability\n",
    "formatter = FuncFormatter(lambda x, pos: f'{x/1e6:.1f}M')\n",
    "plt.gca().yaxis.set_major_formatter(formatter)\n",
    "\n",
    "# 5. Add title and axis labels\n",
    "plt.title('Overall Monthly Sales Trend (Excluding 2018)')\n",
    "plt.xlabel('Month')\n",
    "plt.ylabel('Total Revenue (Millions)')\n",
    "\n",
    "# 6. Rotate x-axis labels for readability\n",
    "plt.xticks(rotation=45)\n",
    "\n",
    "# 7. Adjust layout to prevent clipping\n",
    "plt.tight_layout()\n",
    "\n",
    "# 8. Display the plot\n",
    "plt.show()\n"
   ]
  },
  {
   "cell_type": "markdown",
   "id": "c76c0876",
   "metadata": {},
   "source": [
    "INSIGHTS ---\n",
    "\n",
    "Across all years, January begins strong with roughly \n",
    "95 M).\n",
    "\n",
    "Sales rebound in May and August (≈\n",
    "99–101 M from September to December.\n",
    "\n",
    "This pattern reveals a strong post–New Year surge, a spring dip, and a mid–summer bump each calendar year."
   ]
  },
  {
   "cell_type": "markdown",
   "id": "7bb710f4",
   "metadata": {},
   "source": [
    "---------------------------------------------------------------------------------------------------------------------------------------------"
   ]
  },
  {
   "cell_type": "markdown",
   "id": "814dd8d5",
   "metadata": {},
   "source": [
    "**🔹 3. Top 10 Products by Revenue (in Millions)**\n",
    "\n",
    "Goal: Identify the highest-grossing products to focus marketing and inventory efforts\n",
    "\n",
    "Chart: Horizontal bar chart\n",
    "\n",
    "EDA Type: Univariate\n",
    "\n",
    "Structure: Bars sorted descending to show top 10 products with revenue scaled in millions"
   ]
  },
  {
   "cell_type": "code",
   "execution_count": 48,
   "id": "32b0ec8b",
   "metadata": {},
   "outputs": [
    {
     "name": "stderr",
     "output_type": "stream",
     "text": [
      "C:\\Users\\ASUS\\AppData\\Local\\Temp\\ipykernel_1896\\1838892199.py:11: FutureWarning: \n",
      "\n",
      "Passing `palette` without assigning `hue` is deprecated and will be removed in v0.14.0. Assign the `y` variable to `hue` and set `legend=False` for the same effect.\n",
      "\n",
      "  sns.barplot(\n"
     ]
    },
    {
     "data": {
      "image/png": "[encoded data removed]",
      "text/plain": [
       "<Figure size 900x400 with 1 Axes>"
      ]
     },
     "metadata": {},
     "output_type": "display_data"
    }
   ],
   "source": [
    "# Calculate total revenue for each product and convert values to millions\n",
    "top_prod = df.groupby('product name')['line total'].sum() / 1_000_000\n",
    "\n",
    "# Select the top 10 products by revenue\n",
    "top_prod = top_prod.nlargest(10)\n",
    "\n",
    "# Set the figure size for clarity\n",
    "plt.figure(figsize=(9, 4))\n",
    "\n",
    "# Plot a horizontal bar chart: x-axis as revenue in millions, y-axis as product names\n",
    "sns.barplot(\n",
    "    x=top_prod.values,    # X-axis: revenue values in millions\n",
    "    y=top_prod.index,     # Y-axis: product names\n",
    "    palette='viridis'     # Color palette for bars\n",
    ")\n",
    "\n",
    "# Add title and axis labels\n",
    "plt.title('Top 10 Products by Revenue (in Millions)')  # Main title\n",
    "plt.xlabel('Total Revenue (in Millions)')              # X-axis label\n",
    "plt.ylabel('Product Name')                             # Y-axis label\n",
    "\n",
    "# Adjust layout to prevent overlapping elements\n",
    "plt.tight_layout()\n",
    "\n",
    "# Display the plot\n",
    "plt.show()"
   ]
  },
  {
   "cell_type": "markdown",
   "id": "a7fdc639",
   "metadata": {},
   "source": [
    "**🔹 Bottom 10 Products by Revenue (in Millions)**"
   ]
  },
  {
   "cell_type": "code",
   "execution_count": 49,
   "id": "db90aae5",
   "metadata": {},
   "outputs": [
    {
     "data": {
      "image/png": "[encoded data removed]",
      "text/plain": [
       "<Figure size 900x400 with 1 Axes>"
      ]
     },
     "metadata": {},
     "output_type": "display_data"
    }
   ],
   "source": [
    "# Calculate total revenue for each product and convert values to millions\n",
    "top_prod = df.groupby('product name')['line total'].sum() / 1_000_000\n",
    "\n",
    "# Select the bottom 10 products by revenue\n",
    "bottom_prod = top_prod.nsmallest(10)\n",
    "\n",
    "# Set the figure size for clarity\n",
    "plt.figure(figsize=(9, 4))\n",
    "\n",
    "# Plot a horizontal bar chart\n",
    "sns.barplot(\n",
    "    x=bottom_prod.values,     # X-axis: revenue values in millions\n",
    "    y=bottom_prod.index,      # Y-axis: product names\n",
    "    hue=bottom_prod.index,    # assign hue to prevent FutureWarning\n",
    "    palette='viridis',        # Color palette for bars\n",
    "    dodge=False,\n",
    "    legend=False\n",
    ")\n",
    "\n",
    "# Add title and axis labels\n",
    "plt.title('Bottom 10 Products by Revenue (in Millions)')\n",
    "plt.xlabel('Total Revenue (in Millions)')\n",
    "plt.ylabel('Product Name')\n",
    "\n",
    "# Adjust layout to prevent overlapping elements\n",
    "plt.tight_layout()\n",
    "\n",
    "# Display the plot\n",
    "plt.show()\n"
   ]
  },
  {
   "cell_type": "markdown",
   "id": "b130a3b3",
   "metadata": {},
   "source": [
    "Products 18 and 28 lead with average profit margins of approximately 8.0-8.3k, followed closely by Product5 and Product11 around\n",
    "7.9–8.0 K.\n",
    "\n",
    "Mid-tier performers like Products 12, 26, and 21 cluster in the 7.7-7.8k range, while the bottom tier (Product4,16,and 1) fall between\n",
    "7.4–7.6 K.\n",
    "\n",
    "Focusing on margin optimization strategies from top performers may help elevate overall product profitability."
   ]
  },
  {
   "cell_type": "markdown",
   "id": "2af07e1a",
   "metadata": {},
   "source": [
    "------------------------------------------------------------------------------------------------------------------------------------------------------------"
   ]
  },
  {
   "cell_type": "markdown",
   "id": "45734b81",
   "metadata": {},
   "source": [
    "🔹 5. Sales by Channel (Pie Chart)\n",
    "\n",
    "Goal: Show distribution of total sales across channels to identify dominant sales routes\n",
    "\n",
    "Chart: Pie chart\n",
    "\n",
    "EDA Type: Univariate\n",
    "\n",
    "Structure: Pie segments with percentage labels, colors for clarity, start angle adjusted"
   ]
  },
  {
   "cell_type": "code",
   "execution_count": 50,
   "id": "a1f7f30b",
   "metadata": {},
   "outputs": [
    {
     "data": {
      "image/png": "[encoded data removed]",
      "text/plain": [
       "<Figure size 800x400 with 1 Axes>"
      ]
     },
     "metadata": {},
     "output_type": "display_data"
    }
   ],
   "source": [
    "chan_sales = df.groupby('channel')['line total'].sum().sort_values(ascending=True)\n",
    "plt.figure(figsize=(8,4))\n",
    "plt.pie(chan_sales, labels=chan_sales.index, autopct='%1.1f%%', startangle=140)\n",
    "plt.title('Sales Distribution by Channel')\n",
    "plt.tight_layout()\n",
    "plt.show()"
   ]
  },
  {
   "cell_type": "markdown",
   "id": "8f8c4602",
   "metadata": {},
   "source": [
    "INSIGHTS ---\n",
    "Wholesale accounts for 54 % of sales, with distributors at ~31 % and exports at ~15 %, underscoring reliance on domestic bulk channels.\n",
    "\n",
    "To diversify revenue and mitigate concentration risk, prioritize expanding export initiatives—through targeted overseas marketing and strategic partner relationships."
   ]
  },
  {
   "cell_type": "markdown",
   "id": "62c136c0",
   "metadata": {},
   "source": [
    "--------------------------------------------------------------------------------------------------------------------------------------------------------"
   ]
  },
  {
   "cell_type": "markdown",
   "id": "98bf7bcc",
   "metadata": {},
   "source": [
    "🔹 6. Average Order Value (AOV) Distribution\n",
    "\n",
    "Goal: Understand distribution of order values to identify typical spending levels and outliers\n",
    "\n",
    "Chart: Histogram\n",
    "\n",
    "EDA Type: Univariate\n",
    "\n",
    "Structure: Histogram with 50 bins, colored bars with edge highlights to show frequency of order values"
   ]
  },
  {
   "cell_type": "code",
   "execution_count": 51,
   "id": "82e12372",
   "metadata": {},
   "outputs": [
    {
     "data": {
      "image/png": "[encoded data removed]",
      "text/plain": [
       "<Figure size 800x400 with 1 Axes>"
      ]
     },
     "metadata": {},
     "output_type": "display_data"
    }
   ],
   "source": [
    "aov = df.groupby('ordernumber')['line total'].sum()\n",
    "plt.figure(figsize=(8,4))\n",
    "plt.hist(aov, bins=30, color='orange', edgecolor='black')\n",
    "plt.title('Average Order Value Distribution')\n",
    "plt.xlabel('Order Value($)')\n",
    "plt.ylabel('Number of Orders')\n",
    "plt.tight_layout()\n",
    "plt.show()"
   ]
  },
  {
   "cell_type": "markdown",
   "id": "6967fcd6",
   "metadata": {},
   "source": [
    "INSIGHTS ---\n",
    "The order‐value distribution is heavily right‐skewed, with most orders clustering between \n",
    "120 K and a pronounced mode around 50k-60k.\n",
    "\n",
    "A long tail of high-value transactions extends up toward \n",
    "500 K, but these large orders represent only a small share of total volume."
   ]
  },
  {
   "cell_type": "markdown",
   "id": "28ef167e",
   "metadata": {},
   "source": [
    "--------------------------------------------------------------------------------------------------------------------------------------------------------"
   ]
  },
  {
   "cell_type": "markdown",
   "id": "7a6065f8",
   "metadata": {},
   "source": [
    "🔹 7. Profit Margin % vs. Unit Price\n",
    "Goal: Examine relationship between unit price and profit margin percentage across orders\n",
    "\n",
    "Chart: Scatter plot\n",
    "\n",
    "EDA Type: Bivariate\n",
    "\n",
    "Structure: Scatter points with transparency to show data density"
   ]
  },
  {
   "cell_type": "code",
   "execution_count": 52,
   "id": "9215a339",
   "metadata": {},
   "outputs": [
    {
     "data": {
      "image/png": "[encoded data removed]",
      "text/plain": [
       "<Figure size 600x400 with 1 Axes>"
      ]
     },
     "metadata": {},
     "output_type": "display_data"
    }
   ],
   "source": [
    "# Calculate profit margin percentage for each record\n",
    "df['profit_margin_pct'] = (df['profit'] / df['line total']) * 100\n",
    "\n",
    "# Set the figure size for clarity\n",
    "plt.figure(figsize=(6,4))\n",
    "\n",
    "# Plot unit price vs. profit margin percentage\n",
    "plt.scatter(\n",
    "    df['unit price'],            # X-axis: unit price in USD\n",
    "    df['profit_margin_pct'],     # Y-axis: profit margin percentage\n",
    "    alpha=0.6,                   # Transparency level for overlapping points\n",
    "    color='orange'                # Point color\n",
    ")\n",
    "\n",
    "# Add title and axis labels\n",
    "plt.title('Profit Margin % vs. Unit Price')  # Chart title\n",
    "plt.xlabel('Unit Price (USD)')                # X-axis label\n",
    "plt.ylabel('Profit Margin (%)')               # Y-axis label\n",
    "\n",
    "# Adjust layout to prevent clipping\n",
    "plt.tight_layout()\n",
    "\n",
    "# Display the plot\n",
    "plt.show()"
   ]
  },
  {
   "cell_type": "markdown",
   "id": "2a70ebd3",
   "metadata": {},
   "source": [
    "INSIGHTS ---\n",
    "Profit margins are concentrated between ~18% and 60%, with no clear correlation to unit price, which spans from near \n",
    "6,500.\n",
    "\n",
    "Dense horizontal bands indicate consistent margin tiers across a wide price spectrum, reflecting uniform pricing strategies.\n",
    "\n",
    "Outliers below 18% at both low and high price points may signal cost inefficiencies or pricing issues worth deeper investigation."
   ]
  },
  {
   "cell_type": "markdown",
   "id": "8c8e3f8e",
   "metadata": {},
   "source": [
    "-------------------------------------------------------------------------------------------------------------------------------------------------------"
   ]
  },
  {
   "cell_type": "markdown",
   "id": "e7ff83a4",
   "metadata": {},
   "source": [
    "🔹 8. Unit Price Distribution per Product\n",
    "Goal: Compare pricing variability across different products to identify price consistency and outliers\n",
    "\n",
    "Chart: Boxplot\n",
    "\n",
    "EDA Type: Bivariate\n",
    "\n",
    "Structure: Boxplot with rotated labels to display unit price spread per product"
   ]
  },
  {
   "cell_type": "code",
   "execution_count": 53,
   "id": "f699b88e",
   "metadata": {},
   "outputs": [
    {
     "data": {
      "image/png": "[encoded data removed]",
      "text/plain": [
       "<Figure size 1200x400 with 1 Axes>"
      ]
     },
     "metadata": {},
     "output_type": "display_data"
    }
   ],
   "source": [
    "# Set figure size for clarity\n",
    "plt.figure(figsize=(12,4))\n",
    "\n",
    "# Create a boxplot of unit_price by product_name\n",
    "sns.boxplot(\n",
    "    data=df,\n",
    "    x='product name',   # X-axis: product categories\n",
    "    y='unit price',      # Y-axis: unit price values\n",
    "    color='orange'            # Box color\n",
    ")\n",
    "\n",
    "# Add title and axis labels\n",
    "plt.title('Unit Price Distribution per Product')  # Chart title\n",
    "plt.xlabel('Product')                              # X-axis label\n",
    "plt.ylabel('Unit Price (USD)')                     # Y-axis label\n",
    "\n",
    "# Rotate x-axis labels for better readability\n",
    "plt.xticks(rotation=45, ha='right')\n",
    "\n",
    "# Adjust layout to prevent clipping of labels\n",
    "plt.tight_layout()\n",
    "\n",
    "# Display the plot\n",
    "plt.show()"
   ]
  },
  {
   "cell_type": "markdown",
   "id": "53ce6892",
   "metadata": {},
   "source": [
    "INSIGHTS ---\n",
    "Products 8, 17, 27, 20, and 28 show high-end revenue spikes—well above their upper whiskers—likely due to bulk orders, special-edition releases, or premium bundles that temporarily inflate earnings.\n",
    "\n",
    "In contrast, deep low-end outliers (near \n",
    "100) on Products 20 and 27 suggest promotional giveaways or test SKUs that pull down average prices.\n",
    "\n",
    "To ensure accurate margin and pricing assessments, exclude these outlier transactions from average calculations.\n",
    "\n",
    "Then assess whether such anomalies warrant formalization as ongoing promotional strategies or should be phased out to stabilize pricing performance."
   ]
  },
  {
   "cell_type": "markdown",
   "id": "0e8edbf4",
   "metadata": {},
   "source": [
    "---------------------------------------------------------------------------------------------------------------------------------------------------------"
   ]
  },
  {
   "cell_type": "markdown",
   "id": "325d5213",
   "metadata": {},
   "source": [
    "🔹 9. Total Sales by US Region\n",
    "Goal: Compare total sales across U.S. regions to identify top‑performing markets and areas for targeted growth.\n",
    "\n",
    "Chart: Horizontal bar chart\n",
    "\n",
    "EDA Type: Univariate comparison\n",
    "\n",
    "Structure:\n",
    "\n",
    "Bars sorted ascending (Northeast → West) for clear bottom‑to‑top ranking\n",
    "X‑axis in millions USD, Y‑axis listing regions"
   ]
  },
  {
   "cell_type": "code",
   "execution_count": 54,
   "id": "a53a38fc",
   "metadata": {},
   "outputs": [
    {
     "data": {
      "image/png": "[encoded data removed]",
      "text/plain": [
       "<Figure size 1000x400 with 1 Axes>"
      ]
     },
     "metadata": {},
     "output_type": "display_data"
    }
   ],
   "source": [
    "# Aggregate total sales by region (in millions)\n",
    "region_sales = (\n",
    "    df.groupby('region')['line total']\n",
    "    .sum()\n",
    "    .sort_values(ascending=False) / 1_000_000\n",
    ").reset_index()\n",
    "\n",
    "# Rename columns for clarity\n",
    "region_sales.columns = ['US Region', 'Total Sales (Millions)']\n",
    "\n",
    "# Create the figure\n",
    "plt.figure(figsize=(10, 4))\n",
    "\n",
    "# Plot horizontal bar chart\n",
    "sns.barplot(\n",
    "    data=region_sales,\n",
    "    x='Total Sales (Millions)',\n",
    "    y='US Region',\n",
    "    hue='US Region',       # Prevent FutureWarning & color by region\n",
    "    palette='Greens_r',\n",
    "    dodge=False,\n",
    "    legend=False\n",
    ")\n",
    "\n",
    "# Add formatting\n",
    "plt.title('Total Sales by US Region', fontsize=16, pad=12)\n",
    "plt.xlabel('Total Sales (in Millions USD)', fontsize=12)\n",
    "plt.ylabel('US Region', fontsize=12)\n",
    "plt.xticks(rotation=0)\n",
    "sns.despine(left=True, bottom=True)\n",
    "\n",
    "# Adjust and show\n",
    "plt.tight_layout()\n",
    "plt.show()\n"
   ]
  },
  {
   "cell_type": "markdown",
   "id": "8a531ad1",
   "metadata": {},
   "source": [
    "INSIGHTS —\n",
    "West dominates with roughly $360 M in sales (~35 % of total), underscoring its market leadership.\n",
    "South & Midwest each contribute over $320 M (~32 %), indicating strong, consistent demand across central regions.\n",
    "Northeast trails at about $210 M (~20 %), signaling room for growth and targeted investment.\n",
    "Action: Focus on closing the Northeast gap with local promotions and strategic partnerships, while maintaining national playbook success."
   ]
  },
  {
   "cell_type": "markdown",
   "id": "f84776e2",
   "metadata": {},
   "source": [
    "INSIGHTS ---\n",
    "California leads by a wide margin, generating about $230 M in revenue and 7500 orders—more than twice the next-highest state.\n",
    "\n",
    "Illinois, Florida, and Texas form a solid second tier, each posting $85–110 M in revenue with 3 600–4 600 orders.\n",
    "\n",
    "New York and Indiana are mid-pack (≈54-55M 2500 orders), while connectict, Michigan, and Massachusettstrailat\n",
    "35–44 M with 1 600–2 100 orders.\n",
    "\n",
    "The close alignment between revenue and order counts suggests similar average order values across states; to drive growth, focus on increasing order volume in the mid-tier and raising order size in lower-performing regions."
   ]
  },
  {
   "cell_type": "markdown",
   "id": "8b89451b",
   "metadata": {},
   "source": [
    "------------------------------------------------------------------------------------------------------------------------------------------------------"
   ]
  },
  {
   "cell_type": "markdown",
   "id": "adec08f8",
   "metadata": {},
   "source": [
    "🔹 10. Total Sales by State (Choropleth Map)\n",
    "Goal: Visualize geographic distribution of sales to identify high- and low-performing states and uncover regional gaps.\n",
    "\n",
    "Chart: US choropleth map\n",
    "\n",
    "EDA Type: Univariate geospatial\n",
    "\n",
    "Structure:\n",
    "\n",
    "States shaded by total sales (in millions USD) using a blue gradient\n",
    "Legend on the right showing sales scale (M USD)\n",
    "Hover tooltips display exact sales for each state\n",
    "Map scoped to USA for clear regional context"
   ]
  },
  {
   "cell_type": "code",
   "execution_count": 55,
   "id": "f2a7cd04",
   "metadata": {},
   "outputs": [
    {
     "data": {
      "application/vnd.plotly.v1+json": {
       "config": {
        "plotlyServerURL": "https://plot.ly"
       },
       "data": [
        {
         "coloraxis": "coloraxis",
         "customdata": {
          "bdata": "8y84OTJlJUAlLyHVZoIjQK9MrhhkYzdAPKOtSiKZbEChQr8ADK87QIcoFUMoIEZAWmzuQznM+j/bzgiAO/rzP1iqC3gZjVZAZo+r7Ba6NEC0ZERYQ1QrQNXQBmADUhxA8K2jBUPDW0BvqTkvBE1LQFxEb0yqcSRA+5XOh2epEUAB/oQOFf4lQAh5mFGHgUFAyFNFp51cM0AYpxB+mBP5PzqJUow9g0NAGZKTiVuFOEANKfUb3OAwQC55l+axMQtAFU0MbhBSC0AdKnxsgR84QNGn+joVhQ9ANiYfFsW+E0BI2FzaFQ8DQAbzV8hcakdA3QSEewq9E0AaYUDlTk8oQIZVvJF5xEtAZOGQsuo2OUAm++dpwFgnQEmcupegGTBAwb3XtWI6M0BOhdPd0H8MQNiLVw9OWh1AD9mbc0vm+j/N6EfDKT8sQFvuzATDAFVA+7DeqBXqMUDll8EYkWI1QAZvo1x16jxABAMIH0osLUAnPcIfNFH8Pw==",
          "dtype": "f8",
          "shape": "47, 1"
         },
         "geo": "geo",
         "hovertemplate": "state_code=%{location}<br>Total Sales (M USD)=%{z:.2f}<extra></extra>",
         "locationmode": "USA-states",
         "locations": [
          "AL",
          "AR",
          "AZ",
          "CA",
          "CO",
          "CT",
          "DC",
          "DE",
          "FL",
          "GA",
          "IA",
          "ID",
          "IL",
          "IN",
          "KS",
          "KY",
          "LA",
          "MA",
          "MD",
          "ME",
          "MI",
          "MN",
          "MO",
          "MS",
          "MT",
          "NC",
          "ND",
          "NE",
          "NH",
          "NJ",
          "NM",
          "NV",
          "NY",
          "OH",
          "OK",
          "OR",
          "PA",
          "RI",
          "SC",
          "SD",
          "TN",
          "TX",
          "UT",
          "VA",
          "WA",
          "WI",
          "WY"
         ],
         "name": "",
         "type": "choropleth",
         "z": {
          "bdata": "8y84OTJlJUAlLyHVZoIjQK9MrhhkYzdAPKOtSiKZbEChQr8ADK87QIcoFUMoIEZAWmzuQznM+j/bzgiAO/rzP1iqC3gZjVZAZo+r7Ba6NEC0ZERYQ1QrQNXQBmADUhxA8K2jBUPDW0BvqTkvBE1LQFxEb0yqcSRA+5XOh2epEUAB/oQOFf4lQAh5mFGHgUFAyFNFp51cM0AYpxB+mBP5PzqJUow9g0NAGZKTiVuFOEANKfUb3OAwQC55l+axMQtAFU0MbhBSC0AdKnxsgR84QNGn+joVhQ9ANiYfFsW+E0BI2FzaFQ8DQAbzV8hcakdA3QSEewq9E0AaYUDlTk8oQIZVvJF5xEtAZOGQsuo2OUAm++dpwFgnQEmcupegGTBAwb3XtWI6M0BOhdPd0H8MQNiLVw9OWh1AD9mbc0vm+j/N6EfDKT8sQFvuzATDAFVA+7DeqBXqMUDll8EYkWI1QAZvo1x16jxABAMIH0osLUAnPcIfNFH8Pw==",
          "dtype": "f8"
         }
        }
       ],
       "layout": {
        "coloraxis": {
         "colorbar": {
          "ticksuffix": "M",
          "title": {
           "text": "Sales (M USD)"
          }
         },
         "colorscale": [
          [
           0,
           "rgb(247,251,255)"
          ],
          [
           0.125,
           "rgb(222,235,247)"
          ],
          [
           0.25,
           "rgb(198,219,239)"
          ],
          [
           0.375,
           "rgb(158,202,225)"
          ],
          [
           0.5,
           "rgb(107,174,214)"
          ],
          [
           0.625,
           "rgb(66,146,198)"
          ],
          [
           0.75,
           "rgb(33,113,181)"
          ],
          [
           0.875,
           "rgb(8,81,156)"
          ],
          [
           1,
           "rgb(8,48,107)"
          ]
         ]
        },
        "geo": {
         "center": {},
         "domain": {
          "x": [
           0,
           1
          ],
          "y": [
           0,
           1
          ]
         },
         "scope": "usa"
        },
        "legend": {
         "tracegroupgap": 0
        },
        "margin": {
         "b": 0,
         "l": 0,
         "r": 0,
         "t": 40
        },
        "template": {
         "data": {
          "bar": [
           {
            "error_x": {
             "color": "#2a3f5f"
            },
            "error_y": {
             "color": "#2a3f5f"
            },
            "marker": {
             "line": {
              "color": "#E5ECF6",
              "width": 0.5
             },
             "pattern": {
              "fillmode": "overlay",
              "size": 10,
              "solidity": 0.2
             }
            },
            "type": "bar"
           }
          ],
          "barpolar": [
           {
            "marker": {
             "line": {
              "color": "#E5ECF6",
              "width": 0.5
             },
             "pattern": {
              "fillmode": "overlay",
              "size": 10,
              "solidity": 0.2
             }
            },
            "type": "barpolar"
           }
          ],
          "carpet": [
           {
            "aaxis": {
             "endlinecolor": "#2a3f5f",
             "gridcolor": "white",
             "linecolor": "white",
             "minorgridcolor": "white",
             "startlinecolor": "#2a3f5f"
            },
            "baxis": {
             "endlinecolor": "#2a3f5f",
             "gridcolor": "white",
             "linecolor": "white",
             "minorgridcolor": "white",
             "startlinecolor": "#2a3f5f"
            },
            "type": "carpet"
           }
          ],
          "choropleth": [
           {
            "colorbar": {
             "outlinewidth": 0,
             "ticks": ""
            },
            "type": "choropleth"
           }
          ],
          "contour": [
           {
            "colorbar": {
             "outlinewidth": 0,
             "ticks": ""
            },
            "colorscale": [
             [
              0,
              "#0d0887"
             ],
             [
              0.1111111111111111,
              "#46039f"
             ],
             [
              0.2222222222222222,
              "#7201a8"
             ],
             [
              0.3333333333333333,
              "#9c179e"
             ],
             [
              0.4444444444444444,
              "#bd3786"
             ],
             [
              0.5555555555555556,
              "#d8576b"
             ],
             [
              0.6666666666666666,
              "#ed7953"
             ],
             [
              0.7777777777777778,
              "#fb9f3a"
             ],
             [
              0.8888888888888888,
              "#fdca26"
             ],
             [
              1,
              "#f0f921"
             ]
            ],
            "type": "contour"
           }
          ],
          "contourcarpet": [
           {
            "colorbar": {
             "outlinewidth": 0,
             "ticks": ""
            },
            "type": "contourcarpet"
           }
          ],
          "heatmap": [
           {
            "colorbar": {
             "outlinewidth": 0,
             "ticks": ""
            },
            "colorscale": [
             [
              0,
              "#0d0887"
             ],
             [
              0.1111111111111111,
              "#46039f"
             ],
             [
              0.2222222222222222,
              "#7201a8"
             ],
             [
              0.3333333333333333,
              "#9c179e"
             ],
             [
              0.4444444444444444,
              "#bd3786"
             ],
             [
              0.5555555555555556,
              "#d8576b"
             ],
             [
              0.6666666666666666,
              "#ed7953"
             ],
             [
              0.7777777777777778,
              "#fb9f3a"
             ],
             [
              0.8888888888888888,
              "#fdca26"
             ],
             [
              1,
              "#f0f921"
             ]
            ],
            "type": "heatmap"
           }
          ],
          "histogram": [
           {
            "marker": {
             "pattern": {
              "fillmode": "overlay",
              "size": 10,
              "solidity": 0.2
             }
            },
            "type": "histogram"
           }
          ],
          "histogram2d": [
           {
            "colorbar": {
             "outlinewidth": 0,
             "ticks": ""
            },
            "colorscale": [
             [
              0,
              "#0d0887"
             ],
             [
              0.1111111111111111,
              "#46039f"
             ],
             [
              0.2222222222222222,
              "#7201a8"
             ],
             [
              0.3333333333333333,
              "#9c179e"
             ],
             [
              0.4444444444444444,
              "#bd3786"
             ],
             [
              0.5555555555555556,
              "#d8576b"
             ],
             [
              0.6666666666666666,
              "#ed7953"
             ],
             [
              0.7777777777777778,
              "#fb9f3a"
             ],
             [
              0.8888888888888888,
              "#fdca26"
             ],
             [
              1,
              "#f0f921"
             ]
            ],
            "type": "histogram2d"
           }
          ],
          "histogram2dcontour": [
           {
            "colorbar": {
             "outlinewidth": 0,
             "ticks": ""
            },
            "colorscale": [
             [
              0,
              "#0d0887"
             ],
             [
              0.1111111111111111,
              "#46039f"
             ],
             [
              0.2222222222222222,
              "#7201a8"
             ],
             [
              0.3333333333333333,
              "#9c179e"
             ],
             [
              0.4444444444444444,
              "#bd3786"
             ],
             [
              0.5555555555555556,
              "#d8576b"
             ],
             [
              0.6666666666666666,
              "#ed7953"
             ],
             [
              0.7777777777777778,
              "#fb9f3a"
             ],
             [
              0.8888888888888888,
              "#fdca26"
             ],
             [
              1,
              "#f0f921"
             ]
            ],
            "type": "histogram2dcontour"
           }
          ],
          "mesh3d": [
           {
            "colorbar": {
             "outlinewidth": 0,
             "ticks": ""
            },
            "type": "mesh3d"
           }
          ],
          "parcoords": [
           {
            "line": {
             "colorbar": {
              "outlinewidth": 0,
              "ticks": ""
             }
            },
            "type": "parcoords"
           }
          ],
          "pie": [
           {
            "automargin": true,
            "type": "pie"
           }
          ],
          "scatter": [
           {
            "fillpattern": {
             "fillmode": "overlay",
             "size": 10,
             "solidity": 0.2
            },
            "type": "scatter"
           }
          ],
          "scatter3d": [
           {
            "line": {
             "colorbar": {
              "outlinewidth": 0,
              "ticks": ""
             }
            },
            "marker": {
             "colorbar": {
              "outlinewidth": 0,
              "ticks": ""
             }
            },
            "type": "scatter3d"
           }
          ],
          "scattercarpet": [
           {
            "marker": {
             "colorbar": {
              "outlinewidth": 0,
              "ticks": ""
             }
            },
            "type": "scattercarpet"
           }
          ],
          "scattergeo": [
           {
            "marker": {
             "colorbar": {
              "outlinewidth": 0,
              "ticks": ""
             }
            },
            "type": "scattergeo"
           }
          ],
          "scattergl": [
           {
            "marker": {
             "colorbar": {
              "outlinewidth": 0,
              "ticks": ""
             }
            },
            "type": "scattergl"
           }
          ],
          "scattermap": [
           {
            "marker": {
             "colorbar": {
              "outlinewidth": 0,
              "ticks": ""
             }
            },
            "type": "scattermap"
           }
          ],
          "scattermapbox": [
           {
            "marker": {
             "colorbar": {
              "outlinewidth": 0,
              "ticks": ""
             }
            },
            "type": "scattermapbox"
           }
          ],
          "scatterpolar": [
           {
            "marker": {
             "colorbar": {
              "outlinewidth": 0,
              "ticks": ""
             }
            },
            "type": "scatterpolar"
           }
          ],
          "scatterpolargl": [
           {
            "marker": {
             "colorbar": {
              "outlinewidth": 0,
              "ticks": ""
             }
            },
            "type": "scatterpolargl"
           }
          ],
          "scatterternary": [
           {
            "marker": {
             "colorbar": {
              "outlinewidth": 0,
              "ticks": ""
             }
            },
            "type": "scatterternary"
           }
          ],
          "surface": [
           {
            "colorbar": {
             "outlinewidth": 0,
             "ticks": ""
            },
            "colorscale": [
             [
              0,
              "#0d0887"
             ],
             [
              0.1111111111111111,
              "#46039f"
             ],
             [
              0.2222222222222222,
              "#7201a8"
             ],
             [
              0.3333333333333333,
              "#9c179e"
             ],
             [
              0.4444444444444444,
              "#bd3786"
             ],
             [
              0.5555555555555556,
              "#d8576b"
             ],
             [
              0.6666666666666666,
              "#ed7953"
             ],
             [
              0.7777777777777778,
              "#fb9f3a"
             ],
             [
              0.8888888888888888,
              "#fdca26"
             ],
             [
              1,
              "#f0f921"
             ]
            ],
            "type": "surface"
           }
          ],
          "table": [
           {
            "cells": {
             "fill": {
              "color": "#EBF0F8"
             },
             "line": {
              "color": "white"
             }
            },
            "header": {
             "fill": {
              "color": "#C8D4E3"
             },
             "line": {
              "color": "white"
             }
            },
            "type": "table"
           }
          ]
         },
         "layout": {
          "annotationdefaults": {
           "arrowcolor": "#2a3f5f",
           "arrowhead": 0,
           "arrowwidth": 1
          },
          "autotypenumbers": "strict",
          "coloraxis": {
           "colorbar": {
            "outlinewidth": 0,
            "ticks": ""
           }
          },
          "colorscale": {
           "diverging": [
            [
             0,
             "#8e0152"
            ],
            [
             0.1,
             "#c51b7d"
            ],
            [
             0.2,
             "#de77ae"
            ],
            [
             0.3,
             "#f1b6da"
            ],
            [
             0.4,
             "#fde0ef"
            ],
            [
             0.5,
             "#f7f7f7"
            ],
            [
             0.6,
             "#e6f5d0"
            ],
            [
             0.7,
             "#b8e186"
            ],
            [
             0.8,
             "#7fbc41"
            ],
            [
             0.9,
             "#4d9221"
            ],
            [
             1,
             "#276419"
            ]
           ],
           "sequential": [
            [
             0,
             "#0d0887"
            ],
            [
             0.1111111111111111,
             "#46039f"
            ],
            [
             0.2222222222222222,
             "#7201a8"
            ],
            [
             0.3333333333333333,
             "#9c179e"
            ],
            [
             0.4444444444444444,
             "#bd3786"
            ],
            [
             0.5555555555555556,
             "#d8576b"
            ],
            [
             0.6666666666666666,
             "#ed7953"
            ],
            [
             0.7777777777777778,
             "#fb9f3a"
            ],
            [
             0.8888888888888888,
             "#fdca26"
            ],
            [
             1,
             "#f0f921"
            ]
           ],
           "sequentialminus": [
            [
             0,
             "#0d0887"
            ],
            [
             0.1111111111111111,
             "#46039f"
            ],
            [
             0.2222222222222222,
             "#7201a8"
            ],
            [
             0.3333333333333333,
             "#9c179e"
            ],
            [
             0.4444444444444444,
             "#bd3786"
            ],
            [
             0.5555555555555556,
             "#d8576b"
            ],
            [
             0.6666666666666666,
             "#ed7953"
            ],
            [
             0.7777777777777778,
             "#fb9f3a"
            ],
            [
             0.8888888888888888,
             "#fdca26"
            ],
            [
             1,
             "#f0f921"
            ]
           ]
          },
          "colorway": [
           "#636efa",
           "#EF553B",
           "#00cc96",
           "#ab63fa",
           "#FFA15A",
           "#19d3f3",
           "#FF6692",
           "#B6E880",
           "#FF97FF",
           "#FECB52"
          ],
          "font": {
           "color": "#2a3f5f"
          },
          "geo": {
           "bgcolor": "white",
           "lakecolor": "white",
           "landcolor": "#E5ECF6",
           "showlakes": true,
           "showland": true,
           "subunitcolor": "white"
          },
          "hoverlabel": {
           "align": "left"
          },
          "hovermode": "closest",
          "mapbox": {
           "style": "light"
          },
          "paper_bgcolor": "white",
          "plot_bgcolor": "#E5ECF6",
          "polar": {
           "angularaxis": {
            "gridcolor": "white",
            "linecolor": "white",
            "ticks": ""
           },
           "bgcolor": "#E5ECF6",
           "radialaxis": {
            "gridcolor": "white",
            "linecolor": "white",
            "ticks": ""
           }
          },
          "scene": {
           "xaxis": {
            "backgroundcolor": "#E5ECF6",
            "gridcolor": "white",
            "gridwidth": 2,
            "linecolor": "white",
            "showbackground": true,
            "ticks": "",
            "zerolinecolor": "white"
           },
           "yaxis": {
            "backgroundcolor": "#E5ECF6",
            "gridcolor": "white",
            "gridwidth": 2,
            "linecolor": "white",
            "showbackground": true,
            "ticks": "",
            "zerolinecolor": "white"
           },
           "zaxis": {
            "backgroundcolor": "#E5ECF6",
            "gridcolor": "white",
            "gridwidth": 2,
            "linecolor": "white",
            "showbackground": true,
            "ticks": "",
            "zerolinecolor": "white"
           }
          },
          "shapedefaults": {
           "line": {
            "color": "#2a3f5f"
           }
          },
          "ternary": {
           "aaxis": {
            "gridcolor": "white",
            "linecolor": "white",
            "ticks": ""
           },
           "baxis": {
            "gridcolor": "white",
            "linecolor": "white",
            "ticks": ""
           },
           "bgcolor": "#E5ECF6",
           "caxis": {
            "gridcolor": "white",
            "linecolor": "white",
            "ticks": ""
           }
          },
          "title": {
           "x": 0.05
          },
          "xaxis": {
           "automargin": true,
           "gridcolor": "white",
           "linecolor": "white",
           "ticks": "",
           "title": {
            "standoff": 15
           },
           "zerolinecolor": "white",
           "zerolinewidth": 2
          },
          "yaxis": {
           "automargin": true,
           "gridcolor": "white",
           "linecolor": "white",
           "ticks": "",
           "title": {
            "standoff": 15
           },
           "zerolinecolor": "white",
           "zerolinewidth": 2
          }
         }
        },
        "title": {
         "text": "Total Sales by State"
        }
       }
      }
     },
     "metadata": {},
     "output_type": "display_data"
    }
   ],
   "source": [
    "import plotly.express as px\n",
    "\n",
    "# 1. Aggregate revenue by state (in millions)\n",
    "state_sales = (\n",
    "    df\n",
    "    .groupby('state_code')['line total']\n",
    "    .sum()\n",
    "    .reset_index()\n",
    ")\n",
    "state_sales['revenue_m'] = state_sales['line total'] / 1e6  # convert to millions\n",
    "\n",
    "# 2. Plotly choropleth\n",
    "fig = px.choropleth(\n",
    "    state_sales,\n",
    "    locations='state_code',            # column with state codes\n",
    "    locationmode='USA-states'\n",
    ",    # tells Plotly these are US states\n",
    "    color='revenue_m',\n",
    "    scope='usa',\n",
    "    labels={'revenue_m':'Total Sales (M USD)'},\n",
    "    color_continuous_scale='blues',\n",
    "    hover_data={'revenue_m':':.2f'}  # show 2 decimals\n",
    ")\n",
    "\n",
    "# 3. Layout tuning\n",
    "fig.update_layout(\n",
    "    title_text='Total Sales by State',\n",
    "    margin=dict(l=0, r=0, t=40, b=0),\n",
    "    coloraxis_colorbar=dict(\n",
    "        title='Sales (M USD)',\n",
    "        ticksuffix='M'\n",
    "    )\n",
    ")\n",
    "\n",
    "fig.show()"
   ]
  },
  {
   "cell_type": "markdown",
   "id": "1084e6eb",
   "metadata": {},
   "source": [
    "INSIGHTS —\n",
    "-**California leads** with 230M,followed by IIliinious(  \n",
    "112 M) and Florida (90M), formingadomiattop, tier(> \n",
    "90 M).\n",
    "\n",
    "-**Mid‑tier states** (e.g., Texas  85.M, Newyork\n",
    "55 M) hold steady performance but trail the top three by 40–145 M.\n",
    "\n",
    "-**Lower‑tier states** (e.g., New Jersey 47.M down to Massachusetts \n",
    "35 M) reveal a gradual drop, indicating uneven market penetration.\n",
    "\n",
    "-**Action**: Double down on top states with tailored promotions, and launch targeted growth initiatives in under‑penetrated regions to close the gap."
   ]
  },
  {
   "cell_type": "markdown",
   "id": "e1699b11",
   "metadata": {},
   "source": [
    "--------------------------------------------------------------------------------------------------------------------------------------------------------"
   ]
  },
  {
   "cell_type": "markdown",
   "id": "5cddb291",
   "metadata": {},
   "source": [
    "🔹 11. Top 10 States by Revenue and Order Count\n",
    "Goal: Identify highest revenue-generating states and compare their order volumes\n",
    "\n",
    "Chart: Two bar charts\n",
    "\n",
    "EDA Type: Multivariate\n",
    "\n",
    "Structure: First chart shows top 10 states by revenue (in millions), second shows top 10 states by number of orders"
   ]
  },
  {
   "cell_type": "code",
   "execution_count": 58,
   "id": "b93e0a5d",
   "metadata": {},
   "outputs": [
    {
     "name": "stderr",
     "output_type": "stream",
     "text": [
      "C:\\Users\\ASUS\\AppData\\Local\\Temp\\ipykernel_1896\\2376554476.py:21: FutureWarning:\n",
      "\n",
      "\n",
      "\n",
      "Passing `palette` without assigning `hue` is deprecated and will be removed in v0.14.0. Assign the `y` variable to `hue` and set `legend=False` for the same effect.\n",
      "\n",
      "\n",
      "C:\\Users\\ASUS\\AppData\\Local\\Temp\\ipykernel_1896\\2376554476.py:32: FutureWarning:\n",
      "\n",
      "\n",
      "\n",
      "Passing `palette` without assigning `hue` is deprecated and will be removed in v0.14.0. Assign the `y` variable to `hue` and set `legend=False` for the same effect.\n",
      "\n",
      "\n"
     ]
    },
    {
     "data": {
      "image/png": "[encoded data removed]",
      "text/plain": [
       "<Figure size 1600x500 with 2 Axes>"
      ]
     },
     "metadata": {},
     "output_type": "display_data"
    }
   ],
   "source": [
    "# 🔝 Calculate total revenue per customer and select top 10\n",
    "top_rev = (\n",
    "    df.groupby('customer names')['line total']\n",
    "      .sum()                        # Sum revenue for each customer\n",
    "      .sort_values(ascending=False) # Sort from highest to lowest\n",
    "      .head(10)                     # Keep top 10 customers\n",
    ")\n",
    "\n",
    "# 🔻 Calculate total revenue per customer and select bottom 10\n",
    "bottom_rev = (\n",
    "    df.groupby('customer names')['line total']\n",
    "      .sum()                        # Sum revenue for each customer\n",
    "      .sort_values(ascending=True)  # Sort from lowest to highest\n",
    "      .head(10)                     # Keep bottom 10 customers\n",
    ")\n",
    "\n",
    "# Create a figure with two side-by-side subplots\n",
    "fig, axes = plt.subplots(1, 2, figsize=(16, 5))\n",
    "\n",
    "# Plot 1: Top 10 customers by revenue (converted to millions)\n",
    "sns.barplot(\n",
    "    x=top_rev.values / 1e6,    # X-axis: revenue in millions\n",
    "    y=top_rev.index,           # Y-axis: customer names\n",
    "    palette='Blues_r',         # Color palette (reversed blues)\n",
    "    ax=axes[0]                 # Draw on the left subplot\n",
    ")\n",
    "axes[0].set_title('Top 10 Customers by Revenue', fontsize=14)         # Title\n",
    "axes[0].set_xlabel('Revenue (Million USD)', fontsize=12)              # X-axis label\n",
    "axes[0].set_ylabel('Customer Name', fontsize=12)                      # Y-axis label\n",
    "\n",
    "# Plot 2: Bottom 10 customers by revenue (converted to millions)\n",
    "sns.barplot(\n",
    "    x=bottom_rev.values / 1e6, # X-axis: revenue in millions\n",
    "    y=bottom_rev.index,        # Y-axis: customer names\n",
    "    palette='Reds',            # Color palette (reds)\n",
    "    ax=axes[1]                 # Draw on the right subplot\n",
    ")\n",
    "axes[1].set_title('Bottom 10 Customers by Revenue', fontsize=14)      # Title\n",
    "axes[1].set_xlabel('Revenue (Million USD)', fontsize=12)              # X-axis label\n",
    "axes[1].set_ylabel('Customer Name', fontsize=12)                      # Y-axis label\n",
    "\n",
    "# Adjust layout to prevent overlap and display both charts\n",
    "plt.tight_layout()\n",
    "plt.show()"
   ]
  },
  {
   "cell_type": "markdown",
   "id": "6f58fa7b",
   "metadata": {},
   "source": [
    "INSIGHTS ---\n",
    "- Aibox Company tops the list with 21.5M, followed closely byState ltd(\n",
    "12.2 M), while the 10th-ranked Deseret Group still contributes 9.9M- demonstraitingatight \n",
    "10–12 M top tier.\n",
    "\n",
    "- At the bottom, Johnson Ltd leads its group with \n",
    "4.1 M—roughly half the top customer’s revenue.\n",
    "\n",
    "- This steep drop from ~10M+ to \n",
    "4–5 M highlights high revenue concentration among the top customers.\n",
    "\n",
    "- Action: prioritize retention and upsell for your top ten, and launch targeted growth campaigns to elevate the lower-revenue cohort."
   ]
  },
  {
   "cell_type": "markdown",
   "id": "0a96b74b",
   "metadata": {},
   "source": [
    "------------------------------------------------------------------------------------------------------------------------------------------------------"
   ]
  },
  {
   "cell_type": "markdown",
   "id": "66c86522",
   "metadata": {},
   "source": [
    "🔹 12. Average Profit Margin by Channel\n",
    "Goal: Compare average profit margins across sales channels to identify the most and least profitable routes\n",
    "\n",
    "Chart: Bar chart\n",
    "\n",
    "EDA Type: Bivariate\n",
    "\n",
    "Structure: Vertical bars with data labels showing margin percentages, sorted descending by channel"
   ]
  },
  {
   "cell_type": "code",
   "execution_count": 59,
   "id": "ef36a32d",
   "metadata": {},
   "outputs": [
    {
     "name": "stderr",
     "output_type": "stream",
     "text": [
      "C:\\Users\\ASUS\\AppData\\Local\\Temp\\ipykernel_1896\\15237516.py:12: FutureWarning:\n",
      "\n",
      "\n",
      "\n",
      "Passing `palette` without assigning `hue` is deprecated and will be removed in v0.14.0. Assign the `x` variable to `hue` and set `legend=False` for the same effect.\n",
      "\n",
      "\n"
     ]
    },
    {
     "data": {
      "image/png": "[encoded data removed]",
      "text/plain": [
       "<Figure size 600x400 with 1 Axes>"
      ]
     },
     "metadata": {},
     "output_type": "display_data"
    }
   ],
   "source": [
    "# 1️⃣ Compute average profit margin percentage for each channel\n",
    "channel_margin = (\n",
    "    df.groupby('channel')['profit_margin_pct']  # Group by sales channel\n",
    "      .mean()                                  # Calculate mean profit margin %\n",
    "      .sort_values(ascending=False)            # Sort channels from highest to lowest margin\n",
    ")\n",
    "\n",
    "# 2️⃣ Set the figure size for clarity\n",
    "plt.figure(figsize=(6, 4))\n",
    "\n",
    "# 3️⃣ Plot a bar chart of average profit margin by channel\n",
    "ax = sns.barplot(\n",
    "    x=channel_margin.index,    # X-axis: channel names\n",
    "    y=channel_margin.values,   # Y-axis: average profit margin values\n",
    "    palette='coolwarm'         # Color palette for bars\n",
    ")\n",
    "\n",
    "# 4️⃣ Add chart title and axis labels\n",
    "plt.title('Average Profit Margin by Channel')  # Main title\n",
    "plt.xlabel('Sales Channel')                    # X-axis label\n",
    "plt.ylabel('Avg Profit Margin (%)')             # Y-axis label\n",
    "\n",
    "# 5️⃣ Annotate each bar with its exact margin percentage\n",
    "for i, v in enumerate(channel_margin.values):\n",
    "    ax.text(\n",
    "        i,                  # X position (bar index)\n",
    "        v + 0.5,            # Y position (bar height + small offset)\n",
    "        f\"{v:.2f}%\",        # Text label showing percentage with two decimals\n",
    "        ha='center',        # Center-align the text horizontally\n",
    "        fontweight='bold'   # Bold font for readability\n",
    "    )\n",
    "\n",
    "# 6️⃣ Adjust layout to prevent clipping and display the plot\n",
    "plt.tight_layout()\n",
    "plt.show()"
   ]
  },
  {
   "cell_type": "markdown",
   "id": "03636b61",
   "metadata": {},
   "source": [
    "INSIGHTS ---\n",
    "Export leads with a 37.93 % average margin, closely followed by Distributor (37.56 %) and Wholesale (37.09 %).\n",
    "\n",
    "The tiny spread (<0.2 %) shows consistently strong profitability across all channels.\n",
    "\n",
    "This uniformity implies well-controlled costs and pricing power everywhere.\n",
    "\n",
    "To maximize returns, push volume growth in Export while maintaining efficiency in Distributor and Wholesale."
   ]
  },
  {
   "cell_type": "markdown",
   "id": "4d3565f4",
   "metadata": {},
   "source": [
    "-------------------------------------------------------------------------------------------------------------------------------------------------------"
   ]
  },
  {
   "cell_type": "markdown",
   "id": "4a7efdea",
   "metadata": {},
   "source": [
    "🔹 13. Top and Bottom 10 Customers by Revenue\n",
    "Goal: Identify your highest- and lowest-revenue customers to tailor engagement strategies\n",
    "\n",
    "Chart: Side-by-side horizontal bar charts\n",
    "\n",
    "EDA Type: Multivariate\n",
    "\n",
    "Structure: Left chart shows top 10 customers by revenue (in millions), right chart shows bottom 10 customers by revenue (in millions)"
   ]
  },
  {
   "cell_type": "code",
   "execution_count": 62,
   "id": "5da7222d",
   "metadata": {},
   "outputs": [
    {
     "name": "stderr",
     "output_type": "stream",
     "text": [
      "C:\\Users\\ASUS\\AppData\\Local\\Temp\\ipykernel_1896\\1604905035.py:9: FutureWarning:\n",
      "\n",
      "\n",
      "\n",
      "Passing `palette` without assigning `hue` is deprecated and will be removed in v0.14.0. Assign the `x` variable to `hue` and set `legend=False` for the same effect.\n",
      "\n",
      "\n"
     ]
    },
    {
     "data": {
      "image/png": "[encoded data removed]",
      "text/plain": [
       "<Figure size 1500x400 with 1 Axes>"
      ]
     },
     "metadata": {},
     "output_type": "display_data"
    },
    {
     "name": "stderr",
     "output_type": "stream",
     "text": [
      "C:\\Users\\ASUS\\AppData\\Local\\Temp\\ipykernel_1896\\1604905035.py:22: FutureWarning:\n",
      "\n",
      "\n",
      "\n",
      "Passing `palette` without assigning `hue` is deprecated and will be removed in v0.14.0. Assign the `x` variable to `hue` and set `legend=False` for the same effect.\n",
      "\n",
      "\n"
     ]
    },
    {
     "data": {
      "image/png": "[encoded data removed]",
      "text/plain": [
       "<Figure size 1500x400 with 1 Axes>"
      ]
     },
     "metadata": {},
     "output_type": "display_data"
    }
   ],
   "source": [
    "# Aggregate total revenue and unique order count per state\n",
    "state_rev = df.groupby('state').agg(\n",
    "    revenue=('line total', 'sum'),          # Sum up revenue per state\n",
    "    orders=('ordernumber', 'nunique')   # Count unique orders per state\n",
    ").sort_values('revenue', ascending=False).head(10)  # Keep top 10 by revenue\n",
    "\n",
    "# Plot 1: Top 10 states by revenue (scaled to millions)\n",
    "plt.figure(figsize=(15, 4))\n",
    "sns.barplot(\n",
    "    x=state_rev.index,                   # X-axis: state names\n",
    "    y=state_rev['revenue'] / 1e6,        # Y-axis: revenue in millions\n",
    "    palette='coolwarm'                   # Color palette\n",
    ")\n",
    "plt.title('Top 10 States by Revenue')     # Chart title\n",
    "plt.xlabel('State')                       # X-axis label\n",
    "plt.ylabel('Total Revenue (Million USD)') # Y-axis label\n",
    "plt.tight_layout()                        # Adjust layout\n",
    "plt.show()                                # Display the plot\n",
    "\n",
    "# Plot 2: Top 10 states by number of orders\n",
    "plt.figure(figsize=(15, 4))\n",
    "sns.barplot(\n",
    "    x=state_rev.index,                   # X-axis: state names\n",
    "    y=state_rev['orders'],               # Y-axis: order counts\n",
    "    palette='coolwarm'                   # Color palette\n",
    ")\n",
    "plt.title('Top 10 States by Number of Orders')  # Chart title\n",
    "plt.xlabel('State')                              # X-axis label\n",
    "plt.ylabel('Order Count')                        # Y-axis label\n",
    "plt.tight_layout()                               # Adjust layout\n",
    "plt.show()                                       # Display the plot"
   ]
  },
  {
   "cell_type": "markdown",
   "id": "c5c9fb55",
   "metadata": {},
   "source": [
    "---------------------------------------------------------------------------------------------------------------------------------------------------------"
   ]
  },
  {
   "cell_type": "markdown",
   "id": "99b1cb30",
   "metadata": {},
   "source": [
    "🔹 14. Customer Segmentation: Revenue vs. Profit Margin\n",
    "Goal: Segment customers by total revenue and average profit margin, highlighting order volume\n",
    "\n",
    "Chart: Bubble chart (scatter plot with variable point sizes)\n",
    "\n",
    "EDA Type: Multivariate\n",
    "\n",
    "Structure: Scatter points sized by number of orders, plotting revenue vs. margin"
   ]
  },
  {
   "cell_type": "code",
   "execution_count": 64,
   "id": "8c7d74a7",
   "metadata": {},
   "outputs": [
    {
     "data": {
      "image/png": "[encoded data removed]",
      "text/plain": [
       "<Figure size 700x500 with 1 Axes>"
      ]
     },
     "metadata": {},
     "output_type": "display_data"
    }
   ],
   "source": [
    "# Aggregate metrics per customer\n",
    "cust_summary = df.groupby('customer names').agg(\n",
    "    total_revenue=('line total', 'sum'),\n",
    "    total_profit=('profit', 'sum'),\n",
    "    avg_margin=('profit_margin_pct', 'mean'),\n",
    "    orders=('ordernumber', 'nunique')\n",
    ")\n",
    "\n",
    "# Convert revenue to millions\n",
    "cust_summary['total_revenue_m'] = cust_summary['total_revenue'] / 1e6\n",
    "\n",
    "plt.figure(figsize=(7, 5))\n",
    "\n",
    "# Bubble chart with revenue in millions\n",
    "sns.scatterplot(\n",
    "    data=cust_summary,\n",
    "    x='total_revenue_m',        # <-- use revenue in millions\n",
    "    y='avg_margin',\n",
    "    size='orders',\n",
    "    sizes=(20, 200),\n",
    "    alpha=0.7\n",
    ")\n",
    "\n",
    "plt.title('Customer Segmentation: Revenue vs. Profit Margin')\n",
    "plt.xlabel('Total Revenue (Million USD)')  # <-- updated label\n",
    "plt.ylabel('Avg Profit Margin (%)')\n",
    "\n",
    "plt.tight_layout()\n",
    "plt.show()"
   ]
  },
  {
   "cell_type": "markdown",
   "id": "fb664439",
   "metadata": {},
   "source": [
    "INSIGHTS ---\n",
    "- Customers with >$10 M in revenue tend to sustain margins between 36–40%, indicating that scale does not significantly erode profitability.\n",
    "\n",
    "- Most customers cluster within the $6–10 M range and show stable margins (~34–40%), suggesting consistent pricing in this tier.\n",
    "\n",
    "- Customers below $6 M display the widest margin variance (~33–43%), pointing to more volatile cost structures or discounts among smaller accounts.\n",
    "\n",
    "- Bubble size (order count) increases with revenue, but margin levels appear unaffected—reinforcing revenue as the dominant performance driver over order volume."
   ]
  },
  {
   "cell_type": "markdown",
   "id": "52938499",
   "metadata": {},
   "source": [
    "----------------------------------------------------------------------------------------------------------------------------------------------------------"
   ]
  },
  {
   "cell_type": "markdown",
   "id": "8eff5fa7",
   "metadata": {},
   "source": [
    "🔹 15. Correlation Heatmap of Numeric Features\n",
    "Goal: Identify relationships among key numeric variables to uncover potential multicollinearity\n",
    "\n",
    "Chart: Correlation heatmap\n",
    "\n",
    "EDA Type: Multivariate\n",
    "\n",
    "Structure: Annotated heatmap with correlation coefficients for selected numeric columns"
   ]
  },
  {
   "cell_type": "code",
   "execution_count": 65,
   "id": "d370019f",
   "metadata": {},
   "outputs": [
    {
     "data": {
      "image/png": "[encoded data removed]",
      "text/plain": [
       "<Figure size 600x400 with 2 Axes>"
      ]
     },
     "metadata": {},
     "output_type": "display_data"
    }
   ],
   "source": [
    "# List numeric columns to include in the correlation calculation\n",
    "num_cols = ['order quantity', 'unit price', 'line total', 'total unit cost', 'profit']\n",
    "\n",
    "# Calculate the correlation matrix for these numeric features\n",
    "corr = df[num_cols].corr()\n",
    "\n",
    "# Set the figure size for clarity\n",
    "plt.figure(figsize=(6,4))\n",
    "\n",
    "# Plot the heatmap with annotations and a viridis colormap\n",
    "sns.heatmap(\n",
    "    corr,           # Data: correlation matrix\n",
    "    annot=True,     # Display the correlation coefficients on the heatmap\n",
    "    fmt=\".2f\",      # Format numbers to two decimal places\n",
    "    cmap='viridis'  # Color palette for the heatmap\n",
    ")\n",
    "\n",
    "# Add title for context\n",
    "plt.title('Correlation Matrix')\n",
    "\n",
    "# Adjust layout to prevent clipping\n",
    "plt.tight_layout()\n",
    "\n",
    "# Display the heatmap\n",
    "plt.show()"
   ]
  },
  {
   "cell_type": "markdown",
   "id": "944d1570",
   "metadata": {},
   "source": [
    "INSIGHTS ---\n",
    "- Profit and revenue are very strongly correlated (0.87), indicating that as sales value increases, profit tends to rise as well.\n",
    "\n",
    "- Unit price is a key driver: it correlates 0.91 with revenue, 0.79 with profit, and 0.94 with cost—highlighting how pricing decisions ripple through both top‑line and expense figures.\n",
    "\n",
    "- Cost shows a strong link to revenue (0.85) but a more moderate tie to profit (0.58), underscoring that while higher sales often bring higher expenses, margins can still vary.\n",
    "\n",
    "- Quantity has virtually no correlation with unit price or cost (≈0.00) and only modest associations with revenue (0.34) and profit (0.30), making volume a secondary factor compared to pricing."
   ]
  },
  {
   "cell_type": "markdown",
   "id": "3f2ca90b",
   "metadata": {},
   "source": [
    "---------------------------------------------------------------------------------------------------------------------------------------------------"
   ]
  },
  {
   "cell_type": "markdown",
   "id": "46ba0e28",
   "metadata": {},
   "source": [
    "**Saving Pre-Processed Dataframe**"
   ]
  },
  {
   "cell_type": "code",
   "execution_count": 66,
   "id": "ac69ebf0",
   "metadata": {},
   "outputs": [
    {
     "data": {
      "text/html": [
       "<div>\n",
       "<style scoped>\n",
       "    .dataframe tbody tr th:only-of-type {\n",
       "        vertical-align: middle;\n",
       "    }\n",
       "\n",
       "    .dataframe tbody tr th {\n",
       "        vertical-align: top;\n",
       "    }\n",
       "\n",
       "    .dataframe thead th {\n",
       "        text-align: right;\n",
       "    }\n",
       "</style>\n",
       "<table border=\"1\" class=\"dataframe\">\n",
       "  <thead>\n",
       "    <tr style=\"text-align: right;\">\n",
       "      <th></th>\n",
       "      <th>ordernumber</th>\n",
       "      <th>orderdate</th>\n",
       "      <th>customer names</th>\n",
       "      <th>channel</th>\n",
       "      <th>product name</th>\n",
       "      <th>order quantity</th>\n",
       "      <th>unit price</th>\n",
       "      <th>line total</th>\n",
       "      <th>total unit cost</th>\n",
       "      <th>state_code</th>\n",
       "      <th>...</th>\n",
       "      <th>latitude</th>\n",
       "      <th>longitude</th>\n",
       "      <th>2017 budgets</th>\n",
       "      <th>total cost</th>\n",
       "      <th>profit</th>\n",
       "      <th>profit margin</th>\n",
       "      <th>order_month_name</th>\n",
       "      <th>order_month_num</th>\n",
       "      <th>ordermonth</th>\n",
       "      <th>profit_margin_pct</th>\n",
       "    </tr>\n",
       "  </thead>\n",
       "  <tbody>\n",
       "    <tr>\n",
       "      <th>0</th>\n",
       "      <td>SO - 000225</td>\n",
       "      <td>2014-01-01</td>\n",
       "      <td>Rhynoodle Ltd</td>\n",
       "      <td>Wholesale</td>\n",
       "      <td>Product 27</td>\n",
       "      <td>6</td>\n",
       "      <td>2499.1</td>\n",
       "      <td>14994.6</td>\n",
       "      <td>1824.343</td>\n",
       "      <td>GA</td>\n",
       "      <td>...</td>\n",
       "      <td>32.08354</td>\n",
       "      <td>-81.09983</td>\n",
       "      <td>NaN</td>\n",
       "      <td>10946.058</td>\n",
       "      <td>4048.542</td>\n",
       "      <td>27.0</td>\n",
       "      <td>January</td>\n",
       "      <td>1</td>\n",
       "      <td>2014-01</td>\n",
       "      <td>27.0</td>\n",
       "    </tr>\n",
       "    <tr>\n",
       "      <th>1</th>\n",
       "      <td>SO - 0003378</td>\n",
       "      <td>2014-01-01</td>\n",
       "      <td>Thoughtmix Ltd</td>\n",
       "      <td>Distributor</td>\n",
       "      <td>Product 20</td>\n",
       "      <td>11</td>\n",
       "      <td>2351.7</td>\n",
       "      <td>25868.7</td>\n",
       "      <td>1269.918</td>\n",
       "      <td>IN</td>\n",
       "      <td>...</td>\n",
       "      <td>39.61366</td>\n",
       "      <td>-86.10665</td>\n",
       "      <td>NaN</td>\n",
       "      <td>13969.098</td>\n",
       "      <td>11899.602</td>\n",
       "      <td>46.0</td>\n",
       "      <td>January</td>\n",
       "      <td>1</td>\n",
       "      <td>2014-01</td>\n",
       "      <td>46.0</td>\n",
       "    </tr>\n",
       "    <tr>\n",
       "      <th>2</th>\n",
       "      <td>SO - 0005126</td>\n",
       "      <td>2014-01-01</td>\n",
       "      <td>Amerisourc Corp</td>\n",
       "      <td>Wholesale</td>\n",
       "      <td>Product 26</td>\n",
       "      <td>6</td>\n",
       "      <td>978.2</td>\n",
       "      <td>5869.2</td>\n",
       "      <td>684.740</td>\n",
       "      <td>CA</td>\n",
       "      <td>...</td>\n",
       "      <td>37.66243</td>\n",
       "      <td>-121.87468</td>\n",
       "      <td>NaN</td>\n",
       "      <td>4108.440</td>\n",
       "      <td>1760.760</td>\n",
       "      <td>30.0</td>\n",
       "      <td>January</td>\n",
       "      <td>1</td>\n",
       "      <td>2014-01</td>\n",
       "      <td>30.0</td>\n",
       "    </tr>\n",
       "    <tr>\n",
       "      <th>3</th>\n",
       "      <td>SO - 0005614</td>\n",
       "      <td>2014-01-01</td>\n",
       "      <td>Colgate-Pa Group</td>\n",
       "      <td>Export</td>\n",
       "      <td>Product 7</td>\n",
       "      <td>7</td>\n",
       "      <td>2338.3</td>\n",
       "      <td>16368.1</td>\n",
       "      <td>1028.852</td>\n",
       "      <td>IN</td>\n",
       "      <td>...</td>\n",
       "      <td>39.16533</td>\n",
       "      <td>-86.52639</td>\n",
       "      <td>NaN</td>\n",
       "      <td>7201.964</td>\n",
       "      <td>9166.136</td>\n",
       "      <td>56.0</td>\n",
       "      <td>January</td>\n",
       "      <td>1</td>\n",
       "      <td>2014-01</td>\n",
       "      <td>56.0</td>\n",
       "    </tr>\n",
       "    <tr>\n",
       "      <th>4</th>\n",
       "      <td>SO - 0005781</td>\n",
       "      <td>2014-01-01</td>\n",
       "      <td>Deseret Group</td>\n",
       "      <td>Wholesale</td>\n",
       "      <td>Product 8</td>\n",
       "      <td>8</td>\n",
       "      <td>2291.4</td>\n",
       "      <td>18331.2</td>\n",
       "      <td>1260.270</td>\n",
       "      <td>CT</td>\n",
       "      <td>...</td>\n",
       "      <td>41.77524</td>\n",
       "      <td>-72.52443</td>\n",
       "      <td>NaN</td>\n",
       "      <td>10082.160</td>\n",
       "      <td>8249.040</td>\n",
       "      <td>45.0</td>\n",
       "      <td>January</td>\n",
       "      <td>1</td>\n",
       "      <td>2014-01</td>\n",
       "      <td>45.0</td>\n",
       "    </tr>\n",
       "    <tr>\n",
       "      <th>...</th>\n",
       "      <td>...</td>\n",
       "      <td>...</td>\n",
       "      <td>...</td>\n",
       "      <td>...</td>\n",
       "      <td>...</td>\n",
       "      <td>...</td>\n",
       "      <td>...</td>\n",
       "      <td>...</td>\n",
       "      <td>...</td>\n",
       "      <td>...</td>\n",
       "      <td>...</td>\n",
       "      <td>...</td>\n",
       "      <td>...</td>\n",
       "      <td>...</td>\n",
       "      <td>...</td>\n",
       "      <td>...</td>\n",
       "      <td>...</td>\n",
       "      <td>...</td>\n",
       "      <td>...</td>\n",
       "      <td>...</td>\n",
       "      <td>...</td>\n",
       "    </tr>\n",
       "    <tr>\n",
       "      <th>64099</th>\n",
       "      <td>SO - 0007573</td>\n",
       "      <td>2018-02-28</td>\n",
       "      <td>Dazzlesphe Corp</td>\n",
       "      <td>Wholesale</td>\n",
       "      <td>Product 26</td>\n",
       "      <td>12</td>\n",
       "      <td>1815.7</td>\n",
       "      <td>21788.4</td>\n",
       "      <td>980.478</td>\n",
       "      <td>PA</td>\n",
       "      <td>...</td>\n",
       "      <td>40.15511</td>\n",
       "      <td>-74.82877</td>\n",
       "      <td>NaN</td>\n",
       "      <td>11765.736</td>\n",
       "      <td>10022.664</td>\n",
       "      <td>46.0</td>\n",
       "      <td>February</td>\n",
       "      <td>2</td>\n",
       "      <td>2018-02</td>\n",
       "      <td>46.0</td>\n",
       "    </tr>\n",
       "    <tr>\n",
       "      <th>64100</th>\n",
       "      <td>SO - 0007706</td>\n",
       "      <td>2018-02-28</td>\n",
       "      <td>Yombu Corp</td>\n",
       "      <td>Export</td>\n",
       "      <td>Product 21</td>\n",
       "      <td>6</td>\n",
       "      <td>864.3</td>\n",
       "      <td>5185.8</td>\n",
       "      <td>579.081</td>\n",
       "      <td>IL</td>\n",
       "      <td>...</td>\n",
       "      <td>42.11030</td>\n",
       "      <td>-88.03424</td>\n",
       "      <td>NaN</td>\n",
       "      <td>3474.486</td>\n",
       "      <td>1711.314</td>\n",
       "      <td>33.0</td>\n",
       "      <td>February</td>\n",
       "      <td>2</td>\n",
       "      <td>2018-02</td>\n",
       "      <td>33.0</td>\n",
       "    </tr>\n",
       "    <tr>\n",
       "      <th>64101</th>\n",
       "      <td>SO - 0007718</td>\n",
       "      <td>2018-02-28</td>\n",
       "      <td>Bath Group</td>\n",
       "      <td>Distributor</td>\n",
       "      <td>Product 13</td>\n",
       "      <td>11</td>\n",
       "      <td>3953.0</td>\n",
       "      <td>43483.0</td>\n",
       "      <td>2648.510</td>\n",
       "      <td>FL</td>\n",
       "      <td>...</td>\n",
       "      <td>26.24453</td>\n",
       "      <td>-80.20644</td>\n",
       "      <td>NaN</td>\n",
       "      <td>29133.610</td>\n",
       "      <td>14349.390</td>\n",
       "      <td>33.0</td>\n",
       "      <td>February</td>\n",
       "      <td>2</td>\n",
       "      <td>2018-02</td>\n",
       "      <td>33.0</td>\n",
       "    </tr>\n",
       "    <tr>\n",
       "      <th>64102</th>\n",
       "      <td>SO - 0008084</td>\n",
       "      <td>2018-02-28</td>\n",
       "      <td>Linklinks Ltd</td>\n",
       "      <td>Distributor</td>\n",
       "      <td>Product 20</td>\n",
       "      <td>7</td>\n",
       "      <td>3959.7</td>\n",
       "      <td>27717.9</td>\n",
       "      <td>2930.178</td>\n",
       "      <td>NY</td>\n",
       "      <td>...</td>\n",
       "      <td>42.91002</td>\n",
       "      <td>-78.74182</td>\n",
       "      <td>NaN</td>\n",
       "      <td>20511.246</td>\n",
       "      <td>7206.654</td>\n",
       "      <td>26.0</td>\n",
       "      <td>February</td>\n",
       "      <td>2</td>\n",
       "      <td>2018-02</td>\n",
       "      <td>26.0</td>\n",
       "    </tr>\n",
       "    <tr>\n",
       "      <th>64103</th>\n",
       "      <td>SO - 0008654</td>\n",
       "      <td>2018-02-28</td>\n",
       "      <td>SAFEWAY Ltd</td>\n",
       "      <td>Distributor</td>\n",
       "      <td>Product 15</td>\n",
       "      <td>8</td>\n",
       "      <td>998.3</td>\n",
       "      <td>7986.4</td>\n",
       "      <td>848.555</td>\n",
       "      <td>OR</td>\n",
       "      <td>...</td>\n",
       "      <td>45.48706</td>\n",
       "      <td>-122.80371</td>\n",
       "      <td>NaN</td>\n",
       "      <td>6788.440</td>\n",
       "      <td>1197.960</td>\n",
       "      <td>15.0</td>\n",
       "      <td>February</td>\n",
       "      <td>2</td>\n",
       "      <td>2018-02</td>\n",
       "      <td>15.0</td>\n",
       "    </tr>\n",
       "  </tbody>\n",
       "</table>\n",
       "<p>64104 rows × 23 columns</p>\n",
       "</div>"
      ],
      "text/plain": [
       "        ordernumber  orderdate    customer names      channel product name  \\\n",
       "0       SO - 000225 2014-01-01     Rhynoodle Ltd    Wholesale   Product 27   \n",
       "1      SO - 0003378 2014-01-01    Thoughtmix Ltd  Distributor   Product 20   \n",
       "2      SO - 0005126 2014-01-01   Amerisourc Corp    Wholesale   Product 26   \n",
       "3      SO - 0005614 2014-01-01  Colgate-Pa Group       Export    Product 7   \n",
       "4      SO - 0005781 2014-01-01     Deseret Group    Wholesale    Product 8   \n",
       "...             ...        ...               ...          ...          ...   \n",
       "64099  SO - 0007573 2018-02-28   Dazzlesphe Corp    Wholesale   Product 26   \n",
       "64100  SO - 0007706 2018-02-28        Yombu Corp       Export   Product 21   \n",
       "64101  SO - 0007718 2018-02-28        Bath Group  Distributor   Product 13   \n",
       "64102  SO - 0008084 2018-02-28     Linklinks Ltd  Distributor   Product 20   \n",
       "64103  SO - 0008654 2018-02-28       SAFEWAY Ltd  Distributor   Product 15   \n",
       "\n",
       "       order quantity  unit price  line total  total unit cost state_code  \\\n",
       "0                   6      2499.1     14994.6         1824.343         GA   \n",
       "1                  11      2351.7     25868.7         1269.918         IN   \n",
       "2                   6       978.2      5869.2          684.740         CA   \n",
       "3                   7      2338.3     16368.1         1028.852         IN   \n",
       "4                   8      2291.4     18331.2         1260.270         CT   \n",
       "...               ...         ...         ...              ...        ...   \n",
       "64099              12      1815.7     21788.4          980.478         PA   \n",
       "64100               6       864.3      5185.8          579.081         IL   \n",
       "64101              11      3953.0     43483.0         2648.510         FL   \n",
       "64102               7      3959.7     27717.9         2930.178         NY   \n",
       "64103               8       998.3      7986.4          848.555         OR   \n",
       "\n",
       "       ...  latitude  longitude 2017 budgets  total cost     profit  \\\n",
       "0      ...  32.08354  -81.09983          NaN   10946.058   4048.542   \n",
       "1      ...  39.61366  -86.10665          NaN   13969.098  11899.602   \n",
       "2      ...  37.66243 -121.87468          NaN    4108.440   1760.760   \n",
       "3      ...  39.16533  -86.52639          NaN    7201.964   9166.136   \n",
       "4      ...  41.77524  -72.52443          NaN   10082.160   8249.040   \n",
       "...    ...       ...        ...          ...         ...        ...   \n",
       "64099  ...  40.15511  -74.82877          NaN   11765.736  10022.664   \n",
       "64100  ...  42.11030  -88.03424          NaN    3474.486   1711.314   \n",
       "64101  ...  26.24453  -80.20644          NaN   29133.610  14349.390   \n",
       "64102  ...  42.91002  -78.74182          NaN   20511.246   7206.654   \n",
       "64103  ...  45.48706 -122.80371          NaN    6788.440   1197.960   \n",
       "\n",
       "       profit margin  order_month_name  order_month_num  ordermonth  \\\n",
       "0               27.0           January                1     2014-01   \n",
       "1               46.0           January                1     2014-01   \n",
       "2               30.0           January                1     2014-01   \n",
       "3               56.0           January                1     2014-01   \n",
       "4               45.0           January                1     2014-01   \n",
       "...              ...               ...              ...         ...   \n",
       "64099           46.0          February                2     2018-02   \n",
       "64100           33.0          February                2     2018-02   \n",
       "64101           33.0          February                2     2018-02   \n",
       "64102           26.0          February                2     2018-02   \n",
       "64103           15.0          February                2     2018-02   \n",
       "\n",
       "      profit_margin_pct  \n",
       "0                  27.0  \n",
       "1                  46.0  \n",
       "2                  30.0  \n",
       "3                  56.0  \n",
       "4                  45.0  \n",
       "...                 ...  \n",
       "64099              46.0  \n",
       "64100              33.0  \n",
       "64101              33.0  \n",
       "64102              26.0  \n",
       "64103              15.0  \n",
       "\n",
       "[64104 rows x 23 columns]"
      ]
     },
     "execution_count": 66,
     "metadata": {},
     "output_type": "execute_result"
    }
   ],
   "source": [
    "df"
   ]
  },
  {
   "cell_type": "code",
   "execution_count": 67,
   "id": "9ca858a5",
   "metadata": {},
   "outputs": [],
   "source": [
    "# Export Final DataFrame to CSV\n",
    "df.to_csv('Sales_data(EDA Exported).csv', index=False)"
   ]
  },
  {
   "cell_type": "markdown",
   "id": "bfa4db5b",
   "metadata": {},
   "source": [
    "🔍 **Key Insights**\n",
    "\n",
    "**Monthly Revenue Cycle**:\n",
    "Revenue stays stable between ≈ 23M\n",
    "26.5M across 2014–2017, with no consistent seasonal spikes. Sharpest drop (≈$21.2M) occurs in early 2017, indicating a possible one-time disruption.\n",
    "\n",
    "**Channel Mix**:\n",
    "Wholesale: 54%. Distributors: 31%. Exports: 15% — opportunity to scale international presence.\n",
    "\n",
    "**Top Products** (Revenue):\n",
    "Product 26: 118m,Product 25\n",
    "110M; Product 13: 78M .Mid tier:\n",
    "68–75M; bottom performers: $52–57M.\n",
    "\n",
    "**Profit Margins**:\n",
    "Profit margins range broadly from ≈18% to ≈60%, with no strong correlation to unit price. Dense horizontal bands suggest standardized pricing strategies across tiers.\n",
    "\n",
    "**Seasonal Volume**:\n",
    "No strong monthly pattern, but slight volume uptick appears around May–June. Early 2017 dip (≈$21.2M) may require investigation.\n",
    "\n",
    "**Regional Performance**:\n",
    "California leads: ≈230M Revenue & 7500+ orders. Illinois/Florida/Texas: ≈\n",
    "85M–110M & ≈3500–4500 orders. NY/Indiana: ≈\n",
    "54M & 2000+ orders."
   ]
  },
  {
   "cell_type": "markdown",
   "id": "f04776d2",
   "metadata": {},
   "source": [
    "-------------------------------------------------------------------------------------------------------------------------------------------------"
   ]
  },
  {
   "cell_type": "markdown",
   "id": "cb6fa7d4",
   "metadata": {},
   "source": [
    "💡 **Recommendations**\n",
    "\n",
    "- **Outlier Strategy**: Exclude or formalize bulk-order and promotional SKUs when calculating averages.\n",
    "\n",
    "- **Margin Uplift**: Apply top-product pricing levers to mid/low tiers; cut costs on underperformers.\n",
    "\n",
    "- **Export Growth**: Invest in targeted overseas marketing and distributor partnerships.\n",
    "\n",
    "- **Seasonal Planning**: Shift spend toward January trough and May–June peak; investigate the 2017 anomaly.\n",
    "\n",
    "- **Dashboard Prep**: Build aggregated tables for time series, channel mix, and product performance for Power BI."
   ]
  }
 ],
 "metadata": {
  "kernelspec": {
   "display_name": "Python 3",
   "language": "python",
   "name": "python3"
  },
  "language_info": {
   "codemirror_mode": {
    "name": "ipython",
    "version": 3
   },
   "file_extension": ".py",
   "mimetype": "text/x-python",
   "name": "python",
   "nbconvert_exporter": "python",
   "pygments_lexer": "ipython3",
   "version": "3.13.7"
  }
 },
 "nbformat": 4,
 "nbformat_minor": 5
}
